{
  "cells": [
    {
      "cell_type": "markdown",
      "metadata": {
        "id": "view-in-github",
        "colab_type": "text"
      },
      "source": [
        "<a href=\"https://colab.research.google.com/github/VeraYujiaDING/Credit-card-fraud-detection/blob/main/Card_Fraud_Detection_0818.ipynb\" target=\"_parent\"><img src=\"https://colab.research.google.com/assets/colab-badge.svg\" alt=\"Open In Colab\"/></a>"
      ]
    },
    {
      "cell_type": "markdown",
      "metadata": {
        "id": "hG1EzITI_8pH"
      },
      "source": [
        "Data source: https://www.kaggle.com/datasets/mlg-ulb/creditcardfraud"
      ]
    },
    {
      "cell_type": "markdown",
      "metadata": {
        "id": "33AEujdG_JWc"
      },
      "source": [
        "# Understanding the dataset"
      ]
    },
    {
      "cell_type": "code",
      "execution_count": 1,
      "metadata": {
        "id": "28PCzQlgakzI"
      },
      "outputs": [],
      "source": [
        "import pandas as pd\n",
        "import numpy as np\n",
        "import matplotlib.pyplot as plt \n",
        "import seaborn as sns"
      ]
    },
    {
      "cell_type": "code",
      "execution_count": 2,
      "metadata": {
        "id": "s5XrgMOgATvd"
      },
      "outputs": [],
      "source": [
        "from sklearn.preprocessing import StandardScaler\n",
        "from sklearn.model_selection import train_test_split, KFold\n",
        "from sklearn.model_selection import cross_val_score\n",
        "from sklearn.model_selection import GridSearchCV"
      ]
    },
    {
      "cell_type": "code",
      "execution_count": 3,
      "metadata": {
        "id": "uehnz4m2fL-z"
      },
      "outputs": [],
      "source": [
        "from imblearn.under_sampling import RandomUnderSampler\n",
        "from collections import Counter\n",
        "from imblearn.over_sampling import SMOTE"
      ]
    },
    {
      "cell_type": "code",
      "execution_count": 4,
      "metadata": {
        "id": "r4yhtDgLAcqE"
      },
      "outputs": [],
      "source": [
        "from sklearn.linear_model import LogisticRegression\n",
        "from sklearn.neighbors import KNeighborsClassifier\n",
        "from sklearn.tree import DecisionTreeClassifier\n",
        "from sklearn.ensemble import RandomForestClassifier \n",
        "from sklearn.svm import SVC \n",
        "from xgboost import XGBClassifier"
      ]
    },
    {
      "cell_type": "code",
      "execution_count": 5,
      "metadata": {
        "id": "zStX0OUTA6IF"
      },
      "outputs": [],
      "source": [
        "from sklearn import metrics\n",
        "from sklearn.metrics import confusion_matrix, accuracy_score, f1_score, classification_report, roc_auc_score\n",
        "from sklearn.metrics import precision_recall_curve, recall_score, precision_score, average_precision_score"
      ]
    },
    {
      "cell_type": "code",
      "execution_count": 6,
      "metadata": {
        "id": "euiEKGaJFKtD"
      },
      "outputs": [],
      "source": [
        "import itertools"
      ]
    },
    {
      "cell_type": "code",
      "execution_count": 7,
      "metadata": {
        "colab": {
          "base_uri": "https://localhost:8080/",
          "height": 292
        },
        "id": "UW4jSluNBAaF",
        "outputId": "b9764acc-ad91-475f-805c-f8960945d146"
      },
      "outputs": [
        {
          "output_type": "execute_result",
          "data": {
            "text/plain": [
              "   Time        V1        V2        V3        V4        V5        V6        V7  \\\n",
              "0   0.0 -1.359807 -0.072781  2.536347  1.378155 -0.338321  0.462388  0.239599   \n",
              "1   0.0  1.191857  0.266151  0.166480  0.448154  0.060018 -0.082361 -0.078803   \n",
              "2   1.0 -1.358354 -1.340163  1.773209  0.379780 -0.503198  1.800499  0.791461   \n",
              "3   1.0 -0.966272 -0.185226  1.792993 -0.863291 -0.010309  1.247203  0.237609   \n",
              "4   2.0 -1.158233  0.877737  1.548718  0.403034 -0.407193  0.095921  0.592941   \n",
              "\n",
              "         V8        V9  ...       V21       V22       V23       V24       V25  \\\n",
              "0  0.098698  0.363787  ... -0.018307  0.277838 -0.110474  0.066928  0.128539   \n",
              "1  0.085102 -0.255425  ... -0.225775 -0.638672  0.101288 -0.339846  0.167170   \n",
              "2  0.247676 -1.514654  ...  0.247998  0.771679  0.909412 -0.689281 -0.327642   \n",
              "3  0.377436 -1.387024  ... -0.108300  0.005274 -0.190321 -1.175575  0.647376   \n",
              "4 -0.270533  0.817739  ... -0.009431  0.798278 -0.137458  0.141267 -0.206010   \n",
              "\n",
              "        V26       V27       V28  Amount  Class  \n",
              "0 -0.189115  0.133558 -0.021053  149.62      0  \n",
              "1  0.125895 -0.008983  0.014724    2.69      0  \n",
              "2 -0.139097 -0.055353 -0.059752  378.66      0  \n",
              "3 -0.221929  0.062723  0.061458  123.50      0  \n",
              "4  0.502292  0.219422  0.215153   69.99      0  \n",
              "\n",
              "[5 rows x 31 columns]"
            ],
            "text/html": [
              "\n",
              "  <div id=\"df-3b00d72e-1093-4b37-a6bd-a7dd9b152eac\">\n",
              "    <div class=\"colab-df-container\">\n",
              "      <div>\n",
              "<style scoped>\n",
              "    .dataframe tbody tr th:only-of-type {\n",
              "        vertical-align: middle;\n",
              "    }\n",
              "\n",
              "    .dataframe tbody tr th {\n",
              "        vertical-align: top;\n",
              "    }\n",
              "\n",
              "    .dataframe thead th {\n",
              "        text-align: right;\n",
              "    }\n",
              "</style>\n",
              "<table border=\"1\" class=\"dataframe\">\n",
              "  <thead>\n",
              "    <tr style=\"text-align: right;\">\n",
              "      <th></th>\n",
              "      <th>Time</th>\n",
              "      <th>V1</th>\n",
              "      <th>V2</th>\n",
              "      <th>V3</th>\n",
              "      <th>V4</th>\n",
              "      <th>V5</th>\n",
              "      <th>V6</th>\n",
              "      <th>V7</th>\n",
              "      <th>V8</th>\n",
              "      <th>V9</th>\n",
              "      <th>...</th>\n",
              "      <th>V21</th>\n",
              "      <th>V22</th>\n",
              "      <th>V23</th>\n",
              "      <th>V24</th>\n",
              "      <th>V25</th>\n",
              "      <th>V26</th>\n",
              "      <th>V27</th>\n",
              "      <th>V28</th>\n",
              "      <th>Amount</th>\n",
              "      <th>Class</th>\n",
              "    </tr>\n",
              "  </thead>\n",
              "  <tbody>\n",
              "    <tr>\n",
              "      <th>0</th>\n",
              "      <td>0.0</td>\n",
              "      <td>-1.359807</td>\n",
              "      <td>-0.072781</td>\n",
              "      <td>2.536347</td>\n",
              "      <td>1.378155</td>\n",
              "      <td>-0.338321</td>\n",
              "      <td>0.462388</td>\n",
              "      <td>0.239599</td>\n",
              "      <td>0.098698</td>\n",
              "      <td>0.363787</td>\n",
              "      <td>...</td>\n",
              "      <td>-0.018307</td>\n",
              "      <td>0.277838</td>\n",
              "      <td>-0.110474</td>\n",
              "      <td>0.066928</td>\n",
              "      <td>0.128539</td>\n",
              "      <td>-0.189115</td>\n",
              "      <td>0.133558</td>\n",
              "      <td>-0.021053</td>\n",
              "      <td>149.62</td>\n",
              "      <td>0</td>\n",
              "    </tr>\n",
              "    <tr>\n",
              "      <th>1</th>\n",
              "      <td>0.0</td>\n",
              "      <td>1.191857</td>\n",
              "      <td>0.266151</td>\n",
              "      <td>0.166480</td>\n",
              "      <td>0.448154</td>\n",
              "      <td>0.060018</td>\n",
              "      <td>-0.082361</td>\n",
              "      <td>-0.078803</td>\n",
              "      <td>0.085102</td>\n",
              "      <td>-0.255425</td>\n",
              "      <td>...</td>\n",
              "      <td>-0.225775</td>\n",
              "      <td>-0.638672</td>\n",
              "      <td>0.101288</td>\n",
              "      <td>-0.339846</td>\n",
              "      <td>0.167170</td>\n",
              "      <td>0.125895</td>\n",
              "      <td>-0.008983</td>\n",
              "      <td>0.014724</td>\n",
              "      <td>2.69</td>\n",
              "      <td>0</td>\n",
              "    </tr>\n",
              "    <tr>\n",
              "      <th>2</th>\n",
              "      <td>1.0</td>\n",
              "      <td>-1.358354</td>\n",
              "      <td>-1.340163</td>\n",
              "      <td>1.773209</td>\n",
              "      <td>0.379780</td>\n",
              "      <td>-0.503198</td>\n",
              "      <td>1.800499</td>\n",
              "      <td>0.791461</td>\n",
              "      <td>0.247676</td>\n",
              "      <td>-1.514654</td>\n",
              "      <td>...</td>\n",
              "      <td>0.247998</td>\n",
              "      <td>0.771679</td>\n",
              "      <td>0.909412</td>\n",
              "      <td>-0.689281</td>\n",
              "      <td>-0.327642</td>\n",
              "      <td>-0.139097</td>\n",
              "      <td>-0.055353</td>\n",
              "      <td>-0.059752</td>\n",
              "      <td>378.66</td>\n",
              "      <td>0</td>\n",
              "    </tr>\n",
              "    <tr>\n",
              "      <th>3</th>\n",
              "      <td>1.0</td>\n",
              "      <td>-0.966272</td>\n",
              "      <td>-0.185226</td>\n",
              "      <td>1.792993</td>\n",
              "      <td>-0.863291</td>\n",
              "      <td>-0.010309</td>\n",
              "      <td>1.247203</td>\n",
              "      <td>0.237609</td>\n",
              "      <td>0.377436</td>\n",
              "      <td>-1.387024</td>\n",
              "      <td>...</td>\n",
              "      <td>-0.108300</td>\n",
              "      <td>0.005274</td>\n",
              "      <td>-0.190321</td>\n",
              "      <td>-1.175575</td>\n",
              "      <td>0.647376</td>\n",
              "      <td>-0.221929</td>\n",
              "      <td>0.062723</td>\n",
              "      <td>0.061458</td>\n",
              "      <td>123.50</td>\n",
              "      <td>0</td>\n",
              "    </tr>\n",
              "    <tr>\n",
              "      <th>4</th>\n",
              "      <td>2.0</td>\n",
              "      <td>-1.158233</td>\n",
              "      <td>0.877737</td>\n",
              "      <td>1.548718</td>\n",
              "      <td>0.403034</td>\n",
              "      <td>-0.407193</td>\n",
              "      <td>0.095921</td>\n",
              "      <td>0.592941</td>\n",
              "      <td>-0.270533</td>\n",
              "      <td>0.817739</td>\n",
              "      <td>...</td>\n",
              "      <td>-0.009431</td>\n",
              "      <td>0.798278</td>\n",
              "      <td>-0.137458</td>\n",
              "      <td>0.141267</td>\n",
              "      <td>-0.206010</td>\n",
              "      <td>0.502292</td>\n",
              "      <td>0.219422</td>\n",
              "      <td>0.215153</td>\n",
              "      <td>69.99</td>\n",
              "      <td>0</td>\n",
              "    </tr>\n",
              "  </tbody>\n",
              "</table>\n",
              "<p>5 rows × 31 columns</p>\n",
              "</div>\n",
              "      <button class=\"colab-df-convert\" onclick=\"convertToInteractive('df-3b00d72e-1093-4b37-a6bd-a7dd9b152eac')\"\n",
              "              title=\"Convert this dataframe to an interactive table.\"\n",
              "              style=\"display:none;\">\n",
              "        \n",
              "  <svg xmlns=\"http://www.w3.org/2000/svg\" height=\"24px\"viewBox=\"0 0 24 24\"\n",
              "       width=\"24px\">\n",
              "    <path d=\"M0 0h24v24H0V0z\" fill=\"none\"/>\n",
              "    <path d=\"M18.56 5.44l.94 2.06.94-2.06 2.06-.94-2.06-.94-.94-2.06-.94 2.06-2.06.94zm-11 1L8.5 8.5l.94-2.06 2.06-.94-2.06-.94L8.5 2.5l-.94 2.06-2.06.94zm10 10l.94 2.06.94-2.06 2.06-.94-2.06-.94-.94-2.06-.94 2.06-2.06.94z\"/><path d=\"M17.41 7.96l-1.37-1.37c-.4-.4-.92-.59-1.43-.59-.52 0-1.04.2-1.43.59L10.3 9.45l-7.72 7.72c-.78.78-.78 2.05 0 2.83L4 21.41c.39.39.9.59 1.41.59.51 0 1.02-.2 1.41-.59l7.78-7.78 2.81-2.81c.8-.78.8-2.07 0-2.86zM5.41 20L4 18.59l7.72-7.72 1.47 1.35L5.41 20z\"/>\n",
              "  </svg>\n",
              "      </button>\n",
              "      \n",
              "  <style>\n",
              "    .colab-df-container {\n",
              "      display:flex;\n",
              "      flex-wrap:wrap;\n",
              "      gap: 12px;\n",
              "    }\n",
              "\n",
              "    .colab-df-convert {\n",
              "      background-color: #E8F0FE;\n",
              "      border: none;\n",
              "      border-radius: 50%;\n",
              "      cursor: pointer;\n",
              "      display: none;\n",
              "      fill: #1967D2;\n",
              "      height: 32px;\n",
              "      padding: 0 0 0 0;\n",
              "      width: 32px;\n",
              "    }\n",
              "\n",
              "    .colab-df-convert:hover {\n",
              "      background-color: #E2EBFA;\n",
              "      box-shadow: 0px 1px 2px rgba(60, 64, 67, 0.3), 0px 1px 3px 1px rgba(60, 64, 67, 0.15);\n",
              "      fill: #174EA6;\n",
              "    }\n",
              "\n",
              "    [theme=dark] .colab-df-convert {\n",
              "      background-color: #3B4455;\n",
              "      fill: #D2E3FC;\n",
              "    }\n",
              "\n",
              "    [theme=dark] .colab-df-convert:hover {\n",
              "      background-color: #434B5C;\n",
              "      box-shadow: 0px 1px 3px 1px rgba(0, 0, 0, 0.15);\n",
              "      filter: drop-shadow(0px 1px 2px rgba(0, 0, 0, 0.3));\n",
              "      fill: #FFFFFF;\n",
              "    }\n",
              "  </style>\n",
              "\n",
              "      <script>\n",
              "        const buttonEl =\n",
              "          document.querySelector('#df-3b00d72e-1093-4b37-a6bd-a7dd9b152eac button.colab-df-convert');\n",
              "        buttonEl.style.display =\n",
              "          google.colab.kernel.accessAllowed ? 'block' : 'none';\n",
              "\n",
              "        async function convertToInteractive(key) {\n",
              "          const element = document.querySelector('#df-3b00d72e-1093-4b37-a6bd-a7dd9b152eac');\n",
              "          const dataTable =\n",
              "            await google.colab.kernel.invokeFunction('convertToInteractive',\n",
              "                                                     [key], {});\n",
              "          if (!dataTable) return;\n",
              "\n",
              "          const docLinkHtml = 'Like what you see? Visit the ' +\n",
              "            '<a target=\"_blank\" href=https://colab.research.google.com/notebooks/data_table.ipynb>data table notebook</a>'\n",
              "            + ' to learn more about interactive tables.';\n",
              "          element.innerHTML = '';\n",
              "          dataTable['output_type'] = 'display_data';\n",
              "          await google.colab.output.renderOutput(dataTable, element);\n",
              "          const docLink = document.createElement('div');\n",
              "          docLink.innerHTML = docLinkHtml;\n",
              "          element.appendChild(docLink);\n",
              "        }\n",
              "      </script>\n",
              "    </div>\n",
              "  </div>\n",
              "  "
            ]
          },
          "metadata": {},
          "execution_count": 7
        }
      ],
      "source": [
        "df = pd.read_csv('creditcard.csv')\n",
        "df.head()"
      ]
    },
    {
      "cell_type": "code",
      "execution_count": 8,
      "metadata": {
        "colab": {
          "base_uri": "https://localhost:8080/"
        },
        "id": "EuCag8cdB18b",
        "outputId": "936b2beb-250f-499c-b884-8546c5a70597"
      },
      "outputs": [
        {
          "output_type": "execute_result",
          "data": {
            "text/plain": [
              "(284807, 31)"
            ]
          },
          "metadata": {},
          "execution_count": 8
        }
      ],
      "source": [
        "df.shape"
      ]
    },
    {
      "cell_type": "code",
      "execution_count": 9,
      "metadata": {
        "colab": {
          "base_uri": "https://localhost:8080/"
        },
        "id": "YpjzeoyqB3vt",
        "outputId": "9f6078ea-93f9-4145-be15-86ef17ff41c3"
      },
      "outputs": [
        {
          "output_type": "stream",
          "name": "stdout",
          "text": [
            "<class 'pandas.core.frame.DataFrame'>\n",
            "RangeIndex: 284807 entries, 0 to 284806\n",
            "Data columns (total 31 columns):\n",
            " #   Column  Non-Null Count   Dtype  \n",
            "---  ------  --------------   -----  \n",
            " 0   Time    284807 non-null  float64\n",
            " 1   V1      284807 non-null  float64\n",
            " 2   V2      284807 non-null  float64\n",
            " 3   V3      284807 non-null  float64\n",
            " 4   V4      284807 non-null  float64\n",
            " 5   V5      284807 non-null  float64\n",
            " 6   V6      284807 non-null  float64\n",
            " 7   V7      284807 non-null  float64\n",
            " 8   V8      284807 non-null  float64\n",
            " 9   V9      284807 non-null  float64\n",
            " 10  V10     284807 non-null  float64\n",
            " 11  V11     284807 non-null  float64\n",
            " 12  V12     284807 non-null  float64\n",
            " 13  V13     284807 non-null  float64\n",
            " 14  V14     284807 non-null  float64\n",
            " 15  V15     284807 non-null  float64\n",
            " 16  V16     284807 non-null  float64\n",
            " 17  V17     284807 non-null  float64\n",
            " 18  V18     284807 non-null  float64\n",
            " 19  V19     284807 non-null  float64\n",
            " 20  V20     284807 non-null  float64\n",
            " 21  V21     284807 non-null  float64\n",
            " 22  V22     284807 non-null  float64\n",
            " 23  V23     284807 non-null  float64\n",
            " 24  V24     284807 non-null  float64\n",
            " 25  V25     284807 non-null  float64\n",
            " 26  V26     284807 non-null  float64\n",
            " 27  V27     284807 non-null  float64\n",
            " 28  V28     284807 non-null  float64\n",
            " 29  Amount  284807 non-null  float64\n",
            " 30  Class   284807 non-null  int64  \n",
            "dtypes: float64(30), int64(1)\n",
            "memory usage: 67.4 MB\n"
          ]
        }
      ],
      "source": [
        "df.info()"
      ]
    },
    {
      "cell_type": "markdown",
      "metadata": {
        "id": "K70TSbRV_N_y"
      },
      "source": [
        "# Exploratory data analysis"
      ]
    },
    {
      "cell_type": "markdown",
      "metadata": {
        "id": "_cT-5TEFDhol"
      },
      "source": [
        "### 1. Check missing value"
      ]
    },
    {
      "cell_type": "code",
      "execution_count": 10,
      "metadata": {
        "colab": {
          "base_uri": "https://localhost:8080/"
        },
        "id": "ZbvWtpEn_QLF",
        "outputId": "c0f6ec62-9e84-4606-ffc8-0d48649bf4ff"
      },
      "outputs": [
        {
          "output_type": "execute_result",
          "data": {
            "text/plain": [
              "False"
            ]
          },
          "metadata": {},
          "execution_count": 10
        }
      ],
      "source": [
        "df.isnull().values.any()"
      ]
    },
    {
      "cell_type": "markdown",
      "metadata": {
        "id": "vWoFaERKEfNB"
      },
      "source": [
        "### 2. Data distribution/imbalance"
      ]
    },
    {
      "cell_type": "code",
      "execution_count": 11,
      "metadata": {
        "colab": {
          "base_uri": "https://localhost:8080/",
          "height": 1000
        },
        "id": "RJA848H6_Y_H",
        "outputId": "e64b713a-9936-4f42-bb6b-96b25efa3641"
      },
      "outputs": [
        {
          "output_type": "display_data",
          "data": {
            "text/plain": [
              "<Figure size 1440x1440 with 36 Axes>"
            ],
            "image/png": "[encoded data removed]"
          },
          "metadata": {
            "needs_background": "light"
          }
        }
      ],
      "source": [
        "df.hist(figsize = (20, 20))\n",
        "plt.show()"
      ]
    },
    {
      "cell_type": "markdown",
      "metadata": {
        "id": "0NRH-5y-ILLl"
      },
      "source": [
        "First check with transaction **Class**."
      ]
    },
    {
      "cell_type": "code",
      "execution_count": 12,
      "metadata": {
        "colab": {
          "base_uri": "https://localhost:8080/"
        },
        "id": "smlvwHNK_sds",
        "outputId": "12bf605f-8294-49cf-d4b1-f81fe582ed18"
      },
      "outputs": [
        {
          "output_type": "execute_result",
          "data": {
            "text/plain": [
              "0    284315\n",
              "1       492\n",
              "Name: Class, dtype: int64"
            ]
          },
          "metadata": {},
          "execution_count": 12
        }
      ],
      "source": [
        "df['Class'].value_counts()"
      ]
    },
    {
      "cell_type": "code",
      "execution_count": 13,
      "metadata": {
        "colab": {
          "base_uri": "https://localhost:8080/"
        },
        "id": "W1F2zZA4F_Eb",
        "outputId": "9e2cb4a7-c0d2-4abd-c75b-44c57c9aa054"
      },
      "outputs": [
        {
          "output_type": "execute_result",
          "data": {
            "text/plain": [
              "99.82725143693798"
            ]
          },
          "metadata": {},
          "execution_count": 13
        }
      ],
      "source": [
        "#pct for norm:\n",
        "df['Class'].value_counts()[0]/df['Class'].count()*100"
      ]
    },
    {
      "cell_type": "code",
      "execution_count": 14,
      "metadata": {
        "colab": {
          "base_uri": "https://localhost:8080/"
        },
        "id": "HA-_pEB7GNj6",
        "outputId": "ba1f4a5b-c16e-4d21-bc90-f16a1fb02849"
      },
      "outputs": [
        {
          "output_type": "execute_result",
          "data": {
            "text/plain": [
              "0.1727485630620034"
            ]
          },
          "metadata": {},
          "execution_count": 14
        }
      ],
      "source": [
        "#pct for fraud:\n",
        "df['Class'].value_counts()[1]/df['Class'].count()*100"
      ]
    },
    {
      "cell_type": "code",
      "execution_count": 15,
      "metadata": {
        "colab": {
          "base_uri": "https://localhost:8080/",
          "height": 294
        },
        "id": "vSKsB9k_Go-O",
        "outputId": "a2dfef3f-196d-42c0-8a8c-9d818ce67793"
      },
      "outputs": [
        {
          "output_type": "display_data",
          "data": {
            "text/plain": [
              "<Figure size 432x288 with 1 Axes>"
            ],
            "image/png": "[encoded data removed]"
          },
          "metadata": {
            "needs_background": "light"
          }
        }
      ],
      "source": [
        "pd.value_counts(df['Class'], sort = True).plot(kind = 'bar', rot=0)\n",
        "plt.title('Distribution of card transaction class')\n",
        "plt.xticks(range(2), ['Normal', 'Fraud'])\n",
        "plt.xlabel('Class')\n",
        "plt.ylabel('Frequency')\n",
        "plt.show();"
      ]
    },
    {
      "cell_type": "code",
      "execution_count": 16,
      "metadata": {
        "id": "GJPGM2qBIWUg"
      },
      "outputs": [],
      "source": [
        "norm = df[df['Class'] == 0]\n",
        "fraud = df[df['Class'] == 1]"
      ]
    },
    {
      "cell_type": "markdown",
      "metadata": {
        "id": "1sN-fLZ2Fs--"
      },
      "source": [
        "As you can see, most of data records are normal ones. Though it's consistent with our common sense, this distribution represents an obviously imbalanced dataset."
      ]
    },
    {
      "cell_type": "markdown",
      "metadata": {
        "id": "ME0sf_C5ISmk"
      },
      "source": [
        "Now check with **Time** distribution for two classes."
      ]
    },
    {
      "cell_type": "code",
      "execution_count": 17,
      "metadata": {
        "colab": {
          "base_uri": "https://localhost:8080/",
          "height": 375
        },
        "id": "15YrIESVIVIe",
        "outputId": "eb2c9aed-690a-4ed8-af82-39348fb2c03c"
      },
      "outputs": [
        {
          "output_type": "stream",
          "name": "stderr",
          "text": [
            "/usr/local/lib/python3.7/dist-packages/seaborn/distributions.py:2619: FutureWarning: `distplot` is a deprecated function and will be removed in a future version. Please adapt your code to use either `displot` (a figure-level function with similar flexibility) or `kdeplot` (an axes-level function for kernel density plots).\n",
            "  warnings.warn(msg, FutureWarning)\n",
            "/usr/local/lib/python3.7/dist-packages/seaborn/distributions.py:2619: FutureWarning: `distplot` is a deprecated function and will be removed in a future version. Please adapt your code to use either `displot` (a figure-level function with similar flexibility) or `kdeplot` (an axes-level function for kernel density plots).\n",
            "  warnings.warn(msg, FutureWarning)\n"
          ]
        },
        {
          "output_type": "display_data",
          "data": {
            "text/plain": [
              "<Figure size 432x288 with 1 Axes>"
            ],
            "image/png": "[encoded data removed]"
          },
          "metadata": {
            "needs_background": "light"
          }
        }
      ],
      "source": [
        "ax = sns.distplot(fraud['Time'],label='Fraud', hist=False)\n",
        "ax = sns.distplot(norm['Time'],label='Normal', hist=False)\n",
        "ax.set(xlabel='Time diff between the transction and the first transction (second)')\n",
        "plt.show();"
      ]
    },
    {
      "cell_type": "markdown",
      "metadata": {
        "id": "xrw5YaPwJBol"
      },
      "source": [
        "Seems like Time is not an influential factor for normal and fraud transactions - we could simply delete this column!"
      ]
    },
    {
      "cell_type": "code",
      "execution_count": 18,
      "metadata": {
        "id": "QIv2mDpTJKx9"
      },
      "outputs": [],
      "source": [
        "df.drop('Time', axis = 1, inplace = True)"
      ]
    },
    {
      "cell_type": "markdown",
      "metadata": {
        "id": "874PrLFlJYIh"
      },
      "source": [
        "Now check with **Amount** distribution for two classes."
      ]
    },
    {
      "cell_type": "code",
      "execution_count": 19,
      "metadata": {
        "colab": {
          "base_uri": "https://localhost:8080/",
          "height": 363
        },
        "id": "L7SoPNngJaQG",
        "outputId": "fb8efeaa-1070-4f70-857f-d3c2bd572013"
      },
      "outputs": [
        {
          "output_type": "stream",
          "name": "stderr",
          "text": [
            "/usr/local/lib/python3.7/dist-packages/seaborn/distributions.py:2619: FutureWarning: `distplot` is a deprecated function and will be removed in a future version. Please adapt your code to use either `displot` (a figure-level function with similar flexibility) or `kdeplot` (an axes-level function for kernel density plots).\n",
            "  warnings.warn(msg, FutureWarning)\n",
            "/usr/local/lib/python3.7/dist-packages/seaborn/distributions.py:2619: FutureWarning: `distplot` is a deprecated function and will be removed in a future version. Please adapt your code to use either `displot` (a figure-level function with similar flexibility) or `kdeplot` (an axes-level function for kernel density plots).\n",
            "  warnings.warn(msg, FutureWarning)\n"
          ]
        },
        {
          "output_type": "display_data",
          "data": {
            "text/plain": [
              "<Figure size 432x288 with 1 Axes>"
            ],
            "image/png": "[encoded data removed]"
          },
          "metadata": {
            "needs_background": "light"
          }
        }
      ],
      "source": [
        "ax = sns.distplot(fraud['Amount'],label='Fraud', hist=False)\n",
        "ax = sns.distplot(norm['Amount'],label='Normal', hist=False)\n",
        "ax.set(xlabel='Transaction amount distribution')\n",
        "plt.show();"
      ]
    },
    {
      "cell_type": "markdown",
      "metadata": {
        "id": "FEACMrMJPwZC"
      },
      "source": [
        "For normal transactions, the transaction amount spreads in a wide range; while for fraud ones,the amount densed in tiny amount."
      ]
    },
    {
      "cell_type": "markdown",
      "metadata": {
        "id": "-Ddo0ZoxHbbe"
      },
      "source": [
        "### 3. Data scaling"
      ]
    },
    {
      "cell_type": "markdown",
      "metadata": {
        "id": "FFD0V3whOndF"
      },
      "source": [
        "First we try to standardize the Amount variable and drop the initial one."
      ]
    },
    {
      "cell_type": "code",
      "execution_count": 20,
      "metadata": {
        "id": "OTD4ovv-Hpup"
      },
      "outputs": [],
      "source": [
        "sc = StandardScaler()\n",
        "df['Amount'] = sc.fit_transform(df['Amount'].values.reshape(-1,1))"
      ]
    },
    {
      "cell_type": "markdown",
      "metadata": {
        "id": "L9DSp1rAHn8Q"
      },
      "source": [
        "### 4. Split data"
      ]
    },
    {
      "cell_type": "code",
      "execution_count": 21,
      "metadata": {
        "id": "azJEfWA5HpeB"
      },
      "outputs": [],
      "source": [
        "X = df.drop(['Class'], axis=1)\n",
        "y = df['Class']"
      ]
    },
    {
      "cell_type": "code",
      "execution_count": 22,
      "metadata": {
        "id": "Mo41lCLoO07e"
      },
      "outputs": [],
      "source": [
        "X_train, X_test, y_train, y_test = train_test_split(X, y, test_size=0.3, random_state=0)"
      ]
    },
    {
      "cell_type": "markdown",
      "metadata": {
        "id": "YXw98Nqo_s0i"
      },
      "source": [
        "# Modeling on imbalanced dataset"
      ]
    },
    {
      "cell_type": "markdown",
      "source": [
        "In this part, we will first utilize undersampling technique to resample our dataset. Afterwards, we'll conduct the four models (Logistic Regression, Decision Tree, Random Forest, and XGBoost) we've used above to train the balanced dataset. Here GridSearchCV is utilized for figuring out optimal parameters. \n",
        "\n",
        "In my previous modeling reports, KNN and SVM are quite popular, while both didn't show in this analysis. Why?\n",
        " * for **SVM**, it becomes less efficient when facing large dataset - in this case, nearly 250K records. Large computational power and resource is not what we want to make the data transformation. -> quit anyway\n",
        " * for **KNN**, things are a bit different. Still with so many data, KNN is not memory efficient. On the other hand, similar to SVM, KNN is computional power consuming, which is strong province for us to avoid using it in this case as well.\n",
        "\n",
        "In terms of model evaluation, given that our dataset is heavily imbalanced, it's not a good idea to compare with traditional metrics like accuracy, which is also highlighted in the Kaggle dataset instruction. Therefore, we prefer to use ROC-AUC score instead to better understand the model performance under various classification thresholds."
      ],
      "metadata": {
        "id": "agAfV4sG2CZl"
      }
    },
    {
      "cell_type": "code",
      "source": [
        "performance = pd.DataFrame(columns=['Model Name','Accuracy score','F1 score', 'AUC'],)"
      ],
      "metadata": {
        "id": "ddAbEP-16yZK"
      },
      "execution_count": 23,
      "outputs": []
    },
    {
      "cell_type": "markdown",
      "metadata": {
        "id": "3WafmmX0TT5B"
      },
      "source": [
        "### Logistic Regression"
      ]
    },
    {
      "cell_type": "code",
      "execution_count": 24,
      "metadata": {
        "colab": {
          "base_uri": "https://localhost:8080/"
        },
        "id": "4Adu8rab_uHm",
        "outputId": "f1335733-74ee-4ce1-d2d5-b7a6f9fbd166"
      },
      "outputs": [
        {
          "output_type": "execute_result",
          "data": {
            "text/plain": [
              "LogisticRegression()"
            ]
          },
          "metadata": {},
          "execution_count": 24
        }
      ],
      "source": [
        "m_lr = LogisticRegression()\n",
        "m_lr.fit(X_train, y_train)"
      ]
    },
    {
      "cell_type": "code",
      "execution_count": 25,
      "metadata": {
        "id": "FrtnxiiUUosS"
      },
      "outputs": [],
      "source": [
        "y_pred_lr = m_lr.predict(X_test)"
      ]
    },
    {
      "cell_type": "code",
      "execution_count": 26,
      "metadata": {
        "id": "zteM6RcHUr87"
      },
      "outputs": [],
      "source": [
        "acc_lr = accuracy_score(y_test, y_pred_lr)"
      ]
    },
    {
      "cell_type": "code",
      "execution_count": 27,
      "metadata": {
        "id": "RuwUnTVcUuQU"
      },
      "outputs": [],
      "source": [
        "f1_lr = f1_score(y_test, y_pred_lr)"
      ]
    },
    {
      "cell_type": "code",
      "execution_count": 28,
      "metadata": {
        "colab": {
          "base_uri": "https://localhost:8080/"
        },
        "id": "RIU_FOZyUwiY",
        "outputId": "f22e5d08-1f25-4ba4-db3c-9eb79994f002"
      },
      "outputs": [
        {
          "output_type": "execute_result",
          "data": {
            "text/plain": [
              "array([[85284,    12],\n",
              "       [   56,    91]])"
            ]
          },
          "metadata": {},
          "execution_count": 28
        }
      ],
      "source": [
        "confusion_matrix(y_test, y_pred_lr, labels = [0, 1])"
      ]
    },
    {
      "cell_type": "code",
      "source": [
        "fpr, tpr, thresholds = metrics.roc_curve( y_test, y_pred_lr)\n",
        "auc_score_lr = metrics.roc_auc_score( y_test, y_pred_lr )\n",
        "plt.figure(figsize=(5, 5))\n",
        "plt.plot( fpr, tpr, label='ROC curve (area = %0.2f)' % auc_score_lr )\n",
        "plt.plot([0, 1], [0, 1], 'k--')\n",
        "plt.xlim([0.0, 1.0])\n",
        "plt.ylim([0.0, 1.05])\n",
        "plt.xlabel('False Positive Rate or [1 - True Negative Rate]')\n",
        "plt.ylabel('True Positive Rate')\n",
        "plt.title('Receiver operating characteristic example')\n",
        "plt.legend(loc=\"lower right\")\n",
        "plt.show()"
      ],
      "metadata": {
        "colab": {
          "base_uri": "https://localhost:8080/",
          "height": 349
        },
        "id": "_XSDl8zX65Kh",
        "outputId": "a25a8e46-1622-4471-e5ff-f5bf02a4655f"
      },
      "execution_count": 29,
      "outputs": [
        {
          "output_type": "display_data",
          "data": {
            "text/plain": [
              "<Figure size 360x360 with 1 Axes>"
            ],
            "image/png": "[encoded data removed]"
          },
          "metadata": {
            "needs_background": "light"
          }
        }
      ]
    },
    {
      "cell_type": "code",
      "execution_count": 30,
      "metadata": {
        "colab": {
          "base_uri": "https://localhost:8080/",
          "height": 78
        },
        "id": "YbE5OigyZLEG",
        "outputId": "a987e0e5-3d80-4051-f1c4-abd5d53703cb"
      },
      "outputs": [
        {
          "output_type": "execute_result",
          "data": {
            "text/plain": [
              "            Model Name  Accuracy score  F1 score       AUC\n",
              "0  Logistic Regression        0.999204     0.728  0.809453"
            ],
            "text/html": [
              "\n",
              "  <div id=\"df-b2249760-ca0b-4834-a40f-bb75901cb73d\">\n",
              "    <div class=\"colab-df-container\">\n",
              "      <div>\n",
              "<style scoped>\n",
              "    .dataframe tbody tr th:only-of-type {\n",
              "        vertical-align: middle;\n",
              "    }\n",
              "\n",
              "    .dataframe tbody tr th {\n",
              "        vertical-align: top;\n",
              "    }\n",
              "\n",
              "    .dataframe thead th {\n",
              "        text-align: right;\n",
              "    }\n",
              "</style>\n",
              "<table border=\"1\" class=\"dataframe\">\n",
              "  <thead>\n",
              "    <tr style=\"text-align: right;\">\n",
              "      <th></th>\n",
              "      <th>Model Name</th>\n",
              "      <th>Accuracy score</th>\n",
              "      <th>F1 score</th>\n",
              "      <th>AUC</th>\n",
              "    </tr>\n",
              "  </thead>\n",
              "  <tbody>\n",
              "    <tr>\n",
              "      <th>0</th>\n",
              "      <td>Logistic Regression</td>\n",
              "      <td>0.999204</td>\n",
              "      <td>0.728</td>\n",
              "      <td>0.809453</td>\n",
              "    </tr>\n",
              "  </tbody>\n",
              "</table>\n",
              "</div>\n",
              "      <button class=\"colab-df-convert\" onclick=\"convertToInteractive('df-b2249760-ca0b-4834-a40f-bb75901cb73d')\"\n",
              "              title=\"Convert this dataframe to an interactive table.\"\n",
              "              style=\"display:none;\">\n",
              "        \n",
              "  <svg xmlns=\"http://www.w3.org/2000/svg\" height=\"24px\"viewBox=\"0 0 24 24\"\n",
              "       width=\"24px\">\n",
              "    <path d=\"M0 0h24v24H0V0z\" fill=\"none\"/>\n",
              "    <path d=\"M18.56 5.44l.94 2.06.94-2.06 2.06-.94-2.06-.94-.94-2.06-.94 2.06-2.06.94zm-11 1L8.5 8.5l.94-2.06 2.06-.94-2.06-.94L8.5 2.5l-.94 2.06-2.06.94zm10 10l.94 2.06.94-2.06 2.06-.94-2.06-.94-.94-2.06-.94 2.06-2.06.94z\"/><path d=\"M17.41 7.96l-1.37-1.37c-.4-.4-.92-.59-1.43-.59-.52 0-1.04.2-1.43.59L10.3 9.45l-7.72 7.72c-.78.78-.78 2.05 0 2.83L4 21.41c.39.39.9.59 1.41.59.51 0 1.02-.2 1.41-.59l7.78-7.78 2.81-2.81c.8-.78.8-2.07 0-2.86zM5.41 20L4 18.59l7.72-7.72 1.47 1.35L5.41 20z\"/>\n",
              "  </svg>\n",
              "      </button>\n",
              "      \n",
              "  <style>\n",
              "    .colab-df-container {\n",
              "      display:flex;\n",
              "      flex-wrap:wrap;\n",
              "      gap: 12px;\n",
              "    }\n",
              "\n",
              "    .colab-df-convert {\n",
              "      background-color: #E8F0FE;\n",
              "      border: none;\n",
              "      border-radius: 50%;\n",
              "      cursor: pointer;\n",
              "      display: none;\n",
              "      fill: #1967D2;\n",
              "      height: 32px;\n",
              "      padding: 0 0 0 0;\n",
              "      width: 32px;\n",
              "    }\n",
              "\n",
              "    .colab-df-convert:hover {\n",
              "      background-color: #E2EBFA;\n",
              "      box-shadow: 0px 1px 2px rgba(60, 64, 67, 0.3), 0px 1px 3px 1px rgba(60, 64, 67, 0.15);\n",
              "      fill: #174EA6;\n",
              "    }\n",
              "\n",
              "    [theme=dark] .colab-df-convert {\n",
              "      background-color: #3B4455;\n",
              "      fill: #D2E3FC;\n",
              "    }\n",
              "\n",
              "    [theme=dark] .colab-df-convert:hover {\n",
              "      background-color: #434B5C;\n",
              "      box-shadow: 0px 1px 3px 1px rgba(0, 0, 0, 0.15);\n",
              "      filter: drop-shadow(0px 1px 2px rgba(0, 0, 0, 0.3));\n",
              "      fill: #FFFFFF;\n",
              "    }\n",
              "  </style>\n",
              "\n",
              "      <script>\n",
              "        const buttonEl =\n",
              "          document.querySelector('#df-b2249760-ca0b-4834-a40f-bb75901cb73d button.colab-df-convert');\n",
              "        buttonEl.style.display =\n",
              "          google.colab.kernel.accessAllowed ? 'block' : 'none';\n",
              "\n",
              "        async function convertToInteractive(key) {\n",
              "          const element = document.querySelector('#df-b2249760-ca0b-4834-a40f-bb75901cb73d');\n",
              "          const dataTable =\n",
              "            await google.colab.kernel.invokeFunction('convertToInteractive',\n",
              "                                                     [key], {});\n",
              "          if (!dataTable) return;\n",
              "\n",
              "          const docLinkHtml = 'Like what you see? Visit the ' +\n",
              "            '<a target=\"_blank\" href=https://colab.research.google.com/notebooks/data_table.ipynb>data table notebook</a>'\n",
              "            + ' to learn more about interactive tables.';\n",
              "          element.innerHTML = '';\n",
              "          dataTable['output_type'] = 'display_data';\n",
              "          await google.colab.output.renderOutput(dataTable, element);\n",
              "          const docLink = document.createElement('div');\n",
              "          docLink.innerHTML = docLinkHtml;\n",
              "          element.appendChild(docLink);\n",
              "        }\n",
              "      </script>\n",
              "    </div>\n",
              "  </div>\n",
              "  "
            ]
          },
          "metadata": {},
          "execution_count": 30
        }
      ],
      "source": [
        "newResult = {'Model Name':'Logistic Regression','Accuracy score':acc_lr,'F1 score':f1_lr, 'AUC':auc_score_lr} \n",
        "performance = performance.append(newResult,ignore_index = True)\n",
        "performance"
      ]
    },
    {
      "cell_type": "markdown",
      "metadata": {
        "id": "br7U0Y4bTOd9"
      },
      "source": [
        "### Decision Tree"
      ]
    },
    {
      "cell_type": "code",
      "execution_count": 31,
      "metadata": {
        "colab": {
          "base_uri": "https://localhost:8080/"
        },
        "id": "-_Ymlif6TONA",
        "outputId": "2d75eb27-71b8-42b0-90b3-a6954a9dfafa"
      },
      "outputs": [
        {
          "output_type": "execute_result",
          "data": {
            "text/plain": [
              "DecisionTreeClassifier(criterion='entropy', max_depth=4)"
            ]
          },
          "metadata": {},
          "execution_count": 31
        }
      ],
      "source": [
        "m_dt = DecisionTreeClassifier(max_depth = 4, criterion = 'entropy')\n",
        "m_dt.fit(X_train, y_train)"
      ]
    },
    {
      "cell_type": "code",
      "execution_count": 32,
      "metadata": {
        "id": "HpFVoHKRT-bt"
      },
      "outputs": [],
      "source": [
        "y_pred_dt = m_dt.predict(X_test)"
      ]
    },
    {
      "cell_type": "code",
      "execution_count": 33,
      "metadata": {
        "id": "37f8FuQTUCiC"
      },
      "outputs": [],
      "source": [
        "acc_dt = accuracy_score(y_test, y_pred_dt)"
      ]
    },
    {
      "cell_type": "code",
      "execution_count": 34,
      "metadata": {
        "id": "yMjtfPXxUMK7"
      },
      "outputs": [],
      "source": [
        "f1_dt = f1_score(y_test, y_pred_dt)"
      ]
    },
    {
      "cell_type": "code",
      "execution_count": 35,
      "metadata": {
        "colab": {
          "base_uri": "https://localhost:8080/"
        },
        "id": "UsFc2Ko0UP-r",
        "outputId": "0c459182-10e0-4d0a-c84a-15549cff9554"
      },
      "outputs": [
        {
          "output_type": "execute_result",
          "data": {
            "text/plain": [
              "array([[85277,    19],\n",
              "       [   35,   112]])"
            ]
          },
          "metadata": {},
          "execution_count": 35
        }
      ],
      "source": [
        "confusion_matrix(y_test, y_pred_dt, labels = [0, 1])"
      ]
    },
    {
      "cell_type": "code",
      "source": [
        "fpr, tpr, thresholds = metrics.roc_curve( y_test, y_pred_dt)\n",
        "auc_score_dt = metrics.roc_auc_score( y_test, y_pred_dt )\n",
        "plt.figure(figsize=(5, 5))\n",
        "plt.plot( fpr, tpr, label='ROC curve (area = %0.2f)' % auc_score_dt )\n",
        "plt.plot([0, 1], [0, 1], 'k--')\n",
        "plt.xlim([0.0, 1.0])\n",
        "plt.ylim([0.0, 1.05])\n",
        "plt.xlabel('False Positive Rate or [1 - True Negative Rate]')\n",
        "plt.ylabel('True Positive Rate')\n",
        "plt.title('Receiver operating characteristic')\n",
        "plt.legend(loc=\"lower right\")\n",
        "plt.show();"
      ],
      "metadata": {
        "colab": {
          "base_uri": "https://localhost:8080/",
          "height": 349
        },
        "id": "GOiMpQelLoaF",
        "outputId": "24b73185-221c-4584-880e-2f81c477a047"
      },
      "execution_count": 36,
      "outputs": [
        {
          "output_type": "display_data",
          "data": {
            "text/plain": [
              "<Figure size 360x360 with 1 Axes>"
            ],
            "image/png": "[encoded data removed]"
          },
          "metadata": {
            "needs_background": "light"
          }
        }
      ]
    },
    {
      "cell_type": "code",
      "execution_count": 37,
      "metadata": {
        "colab": {
          "base_uri": "https://localhost:8080/",
          "height": 109
        },
        "id": "PFMW4QpQZeod",
        "outputId": "9a37e2dd-dc68-46c3-f5c1-db0ad80527a0"
      },
      "outputs": [
        {
          "output_type": "execute_result",
          "data": {
            "text/plain": [
              "            Model Name  Accuracy score  F1 score       AUC\n",
              "0  Logistic Regression        0.999204  0.728000  0.809453\n",
              "1        Decision Tree        0.999368  0.805755  0.880841"
            ],
            "text/html": [
              "\n",
              "  <div id=\"df-e8e216f2-d4df-4d82-ba13-ed66fc06a262\">\n",
              "    <div class=\"colab-df-container\">\n",
              "      <div>\n",
              "<style scoped>\n",
              "    .dataframe tbody tr th:only-of-type {\n",
              "        vertical-align: middle;\n",
              "    }\n",
              "\n",
              "    .dataframe tbody tr th {\n",
              "        vertical-align: top;\n",
              "    }\n",
              "\n",
              "    .dataframe thead th {\n",
              "        text-align: right;\n",
              "    }\n",
              "</style>\n",
              "<table border=\"1\" class=\"dataframe\">\n",
              "  <thead>\n",
              "    <tr style=\"text-align: right;\">\n",
              "      <th></th>\n",
              "      <th>Model Name</th>\n",
              "      <th>Accuracy score</th>\n",
              "      <th>F1 score</th>\n",
              "      <th>AUC</th>\n",
              "    </tr>\n",
              "  </thead>\n",
              "  <tbody>\n",
              "    <tr>\n",
              "      <th>0</th>\n",
              "      <td>Logistic Regression</td>\n",
              "      <td>0.999204</td>\n",
              "      <td>0.728000</td>\n",
              "      <td>0.809453</td>\n",
              "    </tr>\n",
              "    <tr>\n",
              "      <th>1</th>\n",
              "      <td>Decision Tree</td>\n",
              "      <td>0.999368</td>\n",
              "      <td>0.805755</td>\n",
              "      <td>0.880841</td>\n",
              "    </tr>\n",
              "  </tbody>\n",
              "</table>\n",
              "</div>\n",
              "      <button class=\"colab-df-convert\" onclick=\"convertToInteractive('df-e8e216f2-d4df-4d82-ba13-ed66fc06a262')\"\n",
              "              title=\"Convert this dataframe to an interactive table.\"\n",
              "              style=\"display:none;\">\n",
              "        \n",
              "  <svg xmlns=\"http://www.w3.org/2000/svg\" height=\"24px\"viewBox=\"0 0 24 24\"\n",
              "       width=\"24px\">\n",
              "    <path d=\"M0 0h24v24H0V0z\" fill=\"none\"/>\n",
              "    <path d=\"M18.56 5.44l.94 2.06.94-2.06 2.06-.94-2.06-.94-.94-2.06-.94 2.06-2.06.94zm-11 1L8.5 8.5l.94-2.06 2.06-.94-2.06-.94L8.5 2.5l-.94 2.06-2.06.94zm10 10l.94 2.06.94-2.06 2.06-.94-2.06-.94-.94-2.06-.94 2.06-2.06.94z\"/><path d=\"M17.41 7.96l-1.37-1.37c-.4-.4-.92-.59-1.43-.59-.52 0-1.04.2-1.43.59L10.3 9.45l-7.72 7.72c-.78.78-.78 2.05 0 2.83L4 21.41c.39.39.9.59 1.41.59.51 0 1.02-.2 1.41-.59l7.78-7.78 2.81-2.81c.8-.78.8-2.07 0-2.86zM5.41 20L4 18.59l7.72-7.72 1.47 1.35L5.41 20z\"/>\n",
              "  </svg>\n",
              "      </button>\n",
              "      \n",
              "  <style>\n",
              "    .colab-df-container {\n",
              "      display:flex;\n",
              "      flex-wrap:wrap;\n",
              "      gap: 12px;\n",
              "    }\n",
              "\n",
              "    .colab-df-convert {\n",
              "      background-color: #E8F0FE;\n",
              "      border: none;\n",
              "      border-radius: 50%;\n",
              "      cursor: pointer;\n",
              "      display: none;\n",
              "      fill: #1967D2;\n",
              "      height: 32px;\n",
              "      padding: 0 0 0 0;\n",
              "      width: 32px;\n",
              "    }\n",
              "\n",
              "    .colab-df-convert:hover {\n",
              "      background-color: #E2EBFA;\n",
              "      box-shadow: 0px 1px 2px rgba(60, 64, 67, 0.3), 0px 1px 3px 1px rgba(60, 64, 67, 0.15);\n",
              "      fill: #174EA6;\n",
              "    }\n",
              "\n",
              "    [theme=dark] .colab-df-convert {\n",
              "      background-color: #3B4455;\n",
              "      fill: #D2E3FC;\n",
              "    }\n",
              "\n",
              "    [theme=dark] .colab-df-convert:hover {\n",
              "      background-color: #434B5C;\n",
              "      box-shadow: 0px 1px 3px 1px rgba(0, 0, 0, 0.15);\n",
              "      filter: drop-shadow(0px 1px 2px rgba(0, 0, 0, 0.3));\n",
              "      fill: #FFFFFF;\n",
              "    }\n",
              "  </style>\n",
              "\n",
              "      <script>\n",
              "        const buttonEl =\n",
              "          document.querySelector('#df-e8e216f2-d4df-4d82-ba13-ed66fc06a262 button.colab-df-convert');\n",
              "        buttonEl.style.display =\n",
              "          google.colab.kernel.accessAllowed ? 'block' : 'none';\n",
              "\n",
              "        async function convertToInteractive(key) {\n",
              "          const element = document.querySelector('#df-e8e216f2-d4df-4d82-ba13-ed66fc06a262');\n",
              "          const dataTable =\n",
              "            await google.colab.kernel.invokeFunction('convertToInteractive',\n",
              "                                                     [key], {});\n",
              "          if (!dataTable) return;\n",
              "\n",
              "          const docLinkHtml = 'Like what you see? Visit the ' +\n",
              "            '<a target=\"_blank\" href=https://colab.research.google.com/notebooks/data_table.ipynb>data table notebook</a>'\n",
              "            + ' to learn more about interactive tables.';\n",
              "          element.innerHTML = '';\n",
              "          dataTable['output_type'] = 'display_data';\n",
              "          await google.colab.output.renderOutput(dataTable, element);\n",
              "          const docLink = document.createElement('div');\n",
              "          docLink.innerHTML = docLinkHtml;\n",
              "          element.appendChild(docLink);\n",
              "        }\n",
              "      </script>\n",
              "    </div>\n",
              "  </div>\n",
              "  "
            ]
          },
          "metadata": {},
          "execution_count": 37
        }
      ],
      "source": [
        "newResult = {'Model Name':'Decision Tree','Accuracy score':acc_dt,'F1 score':f1_dt, 'AUC':auc_score_dt} \n",
        "performance = performance.append(newResult,ignore_index = True)\n",
        "performance"
      ]
    },
    {
      "cell_type": "markdown",
      "metadata": {
        "id": "On6i1MUWTLwF"
      },
      "source": [
        "### Random Forest"
      ]
    },
    {
      "cell_type": "code",
      "execution_count": 38,
      "metadata": {
        "colab": {
          "base_uri": "https://localhost:8080/"
        },
        "id": "r6kkQhSyTQXc",
        "outputId": "b5bbdbe7-86fc-46a0-ab93-084e519680b8"
      },
      "outputs": [
        {
          "output_type": "execute_result",
          "data": {
            "text/plain": [
              "RandomForestClassifier(max_depth=4)"
            ]
          },
          "metadata": {},
          "execution_count": 38
        }
      ],
      "source": [
        "m_rf = RandomForestClassifier(max_depth = 4)\n",
        "m_rf.fit(X_train,y_train)"
      ]
    },
    {
      "cell_type": "code",
      "execution_count": 39,
      "metadata": {
        "id": "LkYs8DYaTly0"
      },
      "outputs": [],
      "source": [
        "y_pred_rf = m_rf.predict(X_test)"
      ]
    },
    {
      "cell_type": "code",
      "execution_count": 40,
      "metadata": {
        "id": "2Fbxrqc9U4BE"
      },
      "outputs": [],
      "source": [
        "acc_rf = accuracy_score(y_test, y_pred_rf)"
      ]
    },
    {
      "cell_type": "code",
      "execution_count": 41,
      "metadata": {
        "id": "E02KM2sdU4h6"
      },
      "outputs": [],
      "source": [
        "f1_rf = f1_score(y_test, y_pred_rf)"
      ]
    },
    {
      "cell_type": "code",
      "execution_count": 42,
      "metadata": {
        "colab": {
          "base_uri": "https://localhost:8080/"
        },
        "id": "RSma0K98U478",
        "outputId": "88d276c9-988b-4d75-bda4-53f6fa9feafb"
      },
      "outputs": [
        {
          "output_type": "execute_result",
          "data": {
            "text/plain": [
              "array([[85287,     9],\n",
              "       [   49,    98]])"
            ]
          },
          "metadata": {},
          "execution_count": 42
        }
      ],
      "source": [
        "confusion_matrix(y_test, y_pred_rf, labels = [0, 1])"
      ]
    },
    {
      "cell_type": "code",
      "source": [
        "fpr, tpr, thresholds = metrics.roc_curve(y_test, y_pred_rf)\n",
        "auc_score_rf = metrics.roc_auc_score(y_test, y_pred_rf )\n",
        "plt.figure(figsize=(5, 5))\n",
        "plt.plot( fpr, tpr, label='ROC curve (area = %0.2f)' % auc_score_rf )\n",
        "plt.plot([0, 1], [0, 1], 'k--')\n",
        "plt.xlim([0.0, 1.0])\n",
        "plt.ylim([0.0, 1.05])\n",
        "plt.xlabel('False Positive Rate or [1 - True Negative Rate]')\n",
        "plt.ylabel('True Positive Rate')\n",
        "plt.title('Receiver operating characteristic')\n",
        "plt.legend(loc=\"lower right\")\n",
        "plt.show();"
      ],
      "metadata": {
        "colab": {
          "base_uri": "https://localhost:8080/",
          "height": 349
        },
        "id": "bvXlWW2LMD9n",
        "outputId": "4bdedeb3-10e1-412f-c526-ecf8061ac25a"
      },
      "execution_count": 43,
      "outputs": [
        {
          "output_type": "display_data",
          "data": {
            "text/plain": [
              "<Figure size 360x360 with 1 Axes>"
            ],
            "image/png": "[encoded data removed]"
          },
          "metadata": {
            "needs_background": "light"
          }
        }
      ]
    },
    {
      "cell_type": "code",
      "execution_count": 44,
      "metadata": {
        "colab": {
          "base_uri": "https://localhost:8080/",
          "height": 140
        },
        "id": "atY486mQZkpL",
        "outputId": "6c4bb8f4-aeb5-4bd1-db26-4ae681420e59"
      },
      "outputs": [
        {
          "output_type": "execute_result",
          "data": {
            "text/plain": [
              "            Model Name  Accuracy score  F1 score       AUC\n",
              "0  Logistic Regression        0.999204  0.728000  0.809453\n",
              "1        Decision Tree        0.999368  0.805755  0.880841\n",
              "2        Random Forest        0.999321  0.771654  0.833281"
            ],
            "text/html": [
              "\n",
              "  <div id=\"df-cc843418-e1dc-40ab-a1d8-49d07f21fe2d\">\n",
              "    <div class=\"colab-df-container\">\n",
              "      <div>\n",
              "<style scoped>\n",
              "    .dataframe tbody tr th:only-of-type {\n",
              "        vertical-align: middle;\n",
              "    }\n",
              "\n",
              "    .dataframe tbody tr th {\n",
              "        vertical-align: top;\n",
              "    }\n",
              "\n",
              "    .dataframe thead th {\n",
              "        text-align: right;\n",
              "    }\n",
              "</style>\n",
              "<table border=\"1\" class=\"dataframe\">\n",
              "  <thead>\n",
              "    <tr style=\"text-align: right;\">\n",
              "      <th></th>\n",
              "      <th>Model Name</th>\n",
              "      <th>Accuracy score</th>\n",
              "      <th>F1 score</th>\n",
              "      <th>AUC</th>\n",
              "    </tr>\n",
              "  </thead>\n",
              "  <tbody>\n",
              "    <tr>\n",
              "      <th>0</th>\n",
              "      <td>Logistic Regression</td>\n",
              "      <td>0.999204</td>\n",
              "      <td>0.728000</td>\n",
              "      <td>0.809453</td>\n",
              "    </tr>\n",
              "    <tr>\n",
              "      <th>1</th>\n",
              "      <td>Decision Tree</td>\n",
              "      <td>0.999368</td>\n",
              "      <td>0.805755</td>\n",
              "      <td>0.880841</td>\n",
              "    </tr>\n",
              "    <tr>\n",
              "      <th>2</th>\n",
              "      <td>Random Forest</td>\n",
              "      <td>0.999321</td>\n",
              "      <td>0.771654</td>\n",
              "      <td>0.833281</td>\n",
              "    </tr>\n",
              "  </tbody>\n",
              "</table>\n",
              "</div>\n",
              "      <button class=\"colab-df-convert\" onclick=\"convertToInteractive('df-cc843418-e1dc-40ab-a1d8-49d07f21fe2d')\"\n",
              "              title=\"Convert this dataframe to an interactive table.\"\n",
              "              style=\"display:none;\">\n",
              "        \n",
              "  <svg xmlns=\"http://www.w3.org/2000/svg\" height=\"24px\"viewBox=\"0 0 24 24\"\n",
              "       width=\"24px\">\n",
              "    <path d=\"M0 0h24v24H0V0z\" fill=\"none\"/>\n",
              "    <path d=\"M18.56 5.44l.94 2.06.94-2.06 2.06-.94-2.06-.94-.94-2.06-.94 2.06-2.06.94zm-11 1L8.5 8.5l.94-2.06 2.06-.94-2.06-.94L8.5 2.5l-.94 2.06-2.06.94zm10 10l.94 2.06.94-2.06 2.06-.94-2.06-.94-.94-2.06-.94 2.06-2.06.94z\"/><path d=\"M17.41 7.96l-1.37-1.37c-.4-.4-.92-.59-1.43-.59-.52 0-1.04.2-1.43.59L10.3 9.45l-7.72 7.72c-.78.78-.78 2.05 0 2.83L4 21.41c.39.39.9.59 1.41.59.51 0 1.02-.2 1.41-.59l7.78-7.78 2.81-2.81c.8-.78.8-2.07 0-2.86zM5.41 20L4 18.59l7.72-7.72 1.47 1.35L5.41 20z\"/>\n",
              "  </svg>\n",
              "      </button>\n",
              "      \n",
              "  <style>\n",
              "    .colab-df-container {\n",
              "      display:flex;\n",
              "      flex-wrap:wrap;\n",
              "      gap: 12px;\n",
              "    }\n",
              "\n",
              "    .colab-df-convert {\n",
              "      background-color: #E8F0FE;\n",
              "      border: none;\n",
              "      border-radius: 50%;\n",
              "      cursor: pointer;\n",
              "      display: none;\n",
              "      fill: #1967D2;\n",
              "      height: 32px;\n",
              "      padding: 0 0 0 0;\n",
              "      width: 32px;\n",
              "    }\n",
              "\n",
              "    .colab-df-convert:hover {\n",
              "      background-color: #E2EBFA;\n",
              "      box-shadow: 0px 1px 2px rgba(60, 64, 67, 0.3), 0px 1px 3px 1px rgba(60, 64, 67, 0.15);\n",
              "      fill: #174EA6;\n",
              "    }\n",
              "\n",
              "    [theme=dark] .colab-df-convert {\n",
              "      background-color: #3B4455;\n",
              "      fill: #D2E3FC;\n",
              "    }\n",
              "\n",
              "    [theme=dark] .colab-df-convert:hover {\n",
              "      background-color: #434B5C;\n",
              "      box-shadow: 0px 1px 3px 1px rgba(0, 0, 0, 0.15);\n",
              "      filter: drop-shadow(0px 1px 2px rgba(0, 0, 0, 0.3));\n",
              "      fill: #FFFFFF;\n",
              "    }\n",
              "  </style>\n",
              "\n",
              "      <script>\n",
              "        const buttonEl =\n",
              "          document.querySelector('#df-cc843418-e1dc-40ab-a1d8-49d07f21fe2d button.colab-df-convert');\n",
              "        buttonEl.style.display =\n",
              "          google.colab.kernel.accessAllowed ? 'block' : 'none';\n",
              "\n",
              "        async function convertToInteractive(key) {\n",
              "          const element = document.querySelector('#df-cc843418-e1dc-40ab-a1d8-49d07f21fe2d');\n",
              "          const dataTable =\n",
              "            await google.colab.kernel.invokeFunction('convertToInteractive',\n",
              "                                                     [key], {});\n",
              "          if (!dataTable) return;\n",
              "\n",
              "          const docLinkHtml = 'Like what you see? Visit the ' +\n",
              "            '<a target=\"_blank\" href=https://colab.research.google.com/notebooks/data_table.ipynb>data table notebook</a>'\n",
              "            + ' to learn more about interactive tables.';\n",
              "          element.innerHTML = '';\n",
              "          dataTable['output_type'] = 'display_data';\n",
              "          await google.colab.output.renderOutput(dataTable, element);\n",
              "          const docLink = document.createElement('div');\n",
              "          docLink.innerHTML = docLinkHtml;\n",
              "          element.appendChild(docLink);\n",
              "        }\n",
              "      </script>\n",
              "    </div>\n",
              "  </div>\n",
              "  "
            ]
          },
          "metadata": {},
          "execution_count": 44
        }
      ],
      "source": [
        "newResult = {'Model Name':'Random Forest','Accuracy score':acc_rf,'F1 score':f1_rf,'AUC':auc_score_rf} \n",
        "performance = performance.append(newResult,ignore_index = True)\n",
        "performance"
      ]
    },
    {
      "cell_type": "markdown",
      "metadata": {
        "id": "vmMIQVPkTc8N"
      },
      "source": [
        "### XGBoost"
      ]
    },
    {
      "cell_type": "code",
      "execution_count": 45,
      "metadata": {
        "colab": {
          "base_uri": "https://localhost:8080/"
        },
        "id": "HMfSsUhKTfZQ",
        "outputId": "e5a77afa-cecc-4b12-feea-589b72de581b"
      },
      "outputs": [
        {
          "output_type": "execute_result",
          "data": {
            "text/plain": [
              "XGBClassifier(max_depth=4)"
            ]
          },
          "metadata": {},
          "execution_count": 45
        }
      ],
      "source": [
        "m_xgb = XGBClassifier(max_depth = 4)\n",
        "m_xgb.fit(X_train, y_train)"
      ]
    },
    {
      "cell_type": "code",
      "execution_count": 46,
      "metadata": {
        "id": "yp1e-KhDTgV1"
      },
      "outputs": [],
      "source": [
        "y_pred_xgb = m_xgb.predict(X_test)"
      ]
    },
    {
      "cell_type": "code",
      "execution_count": 47,
      "metadata": {
        "id": "I8fajB_8VZS0"
      },
      "outputs": [],
      "source": [
        "acc_xgb = accuracy_score(y_test, y_pred_xgb)"
      ]
    },
    {
      "cell_type": "code",
      "execution_count": 48,
      "metadata": {
        "id": "gLfZSMb5VY1Y"
      },
      "outputs": [],
      "source": [
        "f1_xgb = f1_score(y_test, y_pred_xgb)"
      ]
    },
    {
      "cell_type": "code",
      "source": [
        "fpr, tpr, thresholds = metrics.roc_curve(y_test, y_pred_xgb)\n",
        "auc_score_xgb = metrics.roc_auc_score(y_test, y_pred_xgb )\n",
        "plt.figure(figsize=(5, 5))\n",
        "plt.plot( fpr, tpr, label='ROC curve (area = %0.2f)' % auc_score_xgb )\n",
        "plt.plot([0, 1], [0, 1], 'k--')\n",
        "plt.xlim([0.0, 1.0])\n",
        "plt.ylim([0.0, 1.05])\n",
        "plt.xlabel('False Positive Rate or [1 - True Negative Rate]')\n",
        "plt.ylabel('True Positive Rate')\n",
        "plt.title('Receiver operating characteristic')\n",
        "plt.legend(loc=\"lower right\")\n",
        "plt.show();"
      ],
      "metadata": {
        "colab": {
          "base_uri": "https://localhost:8080/",
          "height": 349
        },
        "id": "_y2hFvAGMhOG",
        "outputId": "b04d8417-1179-4cfe-877f-654adcdcd502"
      },
      "execution_count": 49,
      "outputs": [
        {
          "output_type": "display_data",
          "data": {
            "text/plain": [
              "<Figure size 360x360 with 1 Axes>"
            ],
            "image/png": "[encoded data removed]"
          },
          "metadata": {
            "needs_background": "light"
          }
        }
      ]
    },
    {
      "cell_type": "code",
      "execution_count": 50,
      "metadata": {
        "colab": {
          "base_uri": "https://localhost:8080/",
          "height": 170
        },
        "id": "aoCb2kI4ZrBT",
        "outputId": "4acfdceb-3de3-477c-937c-c0aa3efb08b1"
      },
      "outputs": [
        {
          "output_type": "execute_result",
          "data": {
            "text/plain": [
              "            Model Name  Accuracy score  F1 score       AUC\n",
              "0  Logistic Regression        0.999204  0.728000  0.809453\n",
              "1        Decision Tree        0.999368  0.805755  0.880841\n",
              "2        Random Forest        0.999321  0.771654  0.833281\n",
              "3              XGBoost        0.999497  0.840149  0.884301"
            ],
            "text/html": [
              "\n",
              "  <div id=\"df-b4808da4-3bbe-46bd-adff-0465f584cdb2\">\n",
              "    <div class=\"colab-df-container\">\n",
              "      <div>\n",
              "<style scoped>\n",
              "    .dataframe tbody tr th:only-of-type {\n",
              "        vertical-align: middle;\n",
              "    }\n",
              "\n",
              "    .dataframe tbody tr th {\n",
              "        vertical-align: top;\n",
              "    }\n",
              "\n",
              "    .dataframe thead th {\n",
              "        text-align: right;\n",
              "    }\n",
              "</style>\n",
              "<table border=\"1\" class=\"dataframe\">\n",
              "  <thead>\n",
              "    <tr style=\"text-align: right;\">\n",
              "      <th></th>\n",
              "      <th>Model Name</th>\n",
              "      <th>Accuracy score</th>\n",
              "      <th>F1 score</th>\n",
              "      <th>AUC</th>\n",
              "    </tr>\n",
              "  </thead>\n",
              "  <tbody>\n",
              "    <tr>\n",
              "      <th>0</th>\n",
              "      <td>Logistic Regression</td>\n",
              "      <td>0.999204</td>\n",
              "      <td>0.728000</td>\n",
              "      <td>0.809453</td>\n",
              "    </tr>\n",
              "    <tr>\n",
              "      <th>1</th>\n",
              "      <td>Decision Tree</td>\n",
              "      <td>0.999368</td>\n",
              "      <td>0.805755</td>\n",
              "      <td>0.880841</td>\n",
              "    </tr>\n",
              "    <tr>\n",
              "      <th>2</th>\n",
              "      <td>Random Forest</td>\n",
              "      <td>0.999321</td>\n",
              "      <td>0.771654</td>\n",
              "      <td>0.833281</td>\n",
              "    </tr>\n",
              "    <tr>\n",
              "      <th>3</th>\n",
              "      <td>XGBoost</td>\n",
              "      <td>0.999497</td>\n",
              "      <td>0.840149</td>\n",
              "      <td>0.884301</td>\n",
              "    </tr>\n",
              "  </tbody>\n",
              "</table>\n",
              "</div>\n",
              "      <button class=\"colab-df-convert\" onclick=\"convertToInteractive('df-b4808da4-3bbe-46bd-adff-0465f584cdb2')\"\n",
              "              title=\"Convert this dataframe to an interactive table.\"\n",
              "              style=\"display:none;\">\n",
              "        \n",
              "  <svg xmlns=\"http://www.w3.org/2000/svg\" height=\"24px\"viewBox=\"0 0 24 24\"\n",
              "       width=\"24px\">\n",
              "    <path d=\"M0 0h24v24H0V0z\" fill=\"none\"/>\n",
              "    <path d=\"M18.56 5.44l.94 2.06.94-2.06 2.06-.94-2.06-.94-.94-2.06-.94 2.06-2.06.94zm-11 1L8.5 8.5l.94-2.06 2.06-.94-2.06-.94L8.5 2.5l-.94 2.06-2.06.94zm10 10l.94 2.06.94-2.06 2.06-.94-2.06-.94-.94-2.06-.94 2.06-2.06.94z\"/><path d=\"M17.41 7.96l-1.37-1.37c-.4-.4-.92-.59-1.43-.59-.52 0-1.04.2-1.43.59L10.3 9.45l-7.72 7.72c-.78.78-.78 2.05 0 2.83L4 21.41c.39.39.9.59 1.41.59.51 0 1.02-.2 1.41-.59l7.78-7.78 2.81-2.81c.8-.78.8-2.07 0-2.86zM5.41 20L4 18.59l7.72-7.72 1.47 1.35L5.41 20z\"/>\n",
              "  </svg>\n",
              "      </button>\n",
              "      \n",
              "  <style>\n",
              "    .colab-df-container {\n",
              "      display:flex;\n",
              "      flex-wrap:wrap;\n",
              "      gap: 12px;\n",
              "    }\n",
              "\n",
              "    .colab-df-convert {\n",
              "      background-color: #E8F0FE;\n",
              "      border: none;\n",
              "      border-radius: 50%;\n",
              "      cursor: pointer;\n",
              "      display: none;\n",
              "      fill: #1967D2;\n",
              "      height: 32px;\n",
              "      padding: 0 0 0 0;\n",
              "      width: 32px;\n",
              "    }\n",
              "\n",
              "    .colab-df-convert:hover {\n",
              "      background-color: #E2EBFA;\n",
              "      box-shadow: 0px 1px 2px rgba(60, 64, 67, 0.3), 0px 1px 3px 1px rgba(60, 64, 67, 0.15);\n",
              "      fill: #174EA6;\n",
              "    }\n",
              "\n",
              "    [theme=dark] .colab-df-convert {\n",
              "      background-color: #3B4455;\n",
              "      fill: #D2E3FC;\n",
              "    }\n",
              "\n",
              "    [theme=dark] .colab-df-convert:hover {\n",
              "      background-color: #434B5C;\n",
              "      box-shadow: 0px 1px 3px 1px rgba(0, 0, 0, 0.15);\n",
              "      filter: drop-shadow(0px 1px 2px rgba(0, 0, 0, 0.3));\n",
              "      fill: #FFFFFF;\n",
              "    }\n",
              "  </style>\n",
              "\n",
              "      <script>\n",
              "        const buttonEl =\n",
              "          document.querySelector('#df-b4808da4-3bbe-46bd-adff-0465f584cdb2 button.colab-df-convert');\n",
              "        buttonEl.style.display =\n",
              "          google.colab.kernel.accessAllowed ? 'block' : 'none';\n",
              "\n",
              "        async function convertToInteractive(key) {\n",
              "          const element = document.querySelector('#df-b4808da4-3bbe-46bd-adff-0465f584cdb2');\n",
              "          const dataTable =\n",
              "            await google.colab.kernel.invokeFunction('convertToInteractive',\n",
              "                                                     [key], {});\n",
              "          if (!dataTable) return;\n",
              "\n",
              "          const docLinkHtml = 'Like what you see? Visit the ' +\n",
              "            '<a target=\"_blank\" href=https://colab.research.google.com/notebooks/data_table.ipynb>data table notebook</a>'\n",
              "            + ' to learn more about interactive tables.';\n",
              "          element.innerHTML = '';\n",
              "          dataTable['output_type'] = 'display_data';\n",
              "          await google.colab.output.renderOutput(dataTable, element);\n",
              "          const docLink = document.createElement('div');\n",
              "          docLink.innerHTML = docLinkHtml;\n",
              "          element.appendChild(docLink);\n",
              "        }\n",
              "      </script>\n",
              "    </div>\n",
              "  </div>\n",
              "  "
            ]
          },
          "metadata": {},
          "execution_count": 50
        }
      ],
      "source": [
        "newResult = {'Model Name':'XGBoost','Accuracy score':acc_xgb,'F1 score':f1_xgb,'AUC':auc_score_xgb} \n",
        "performance = performance.append(newResult,ignore_index = True)\n",
        "performance"
      ]
    },
    {
      "cell_type": "markdown",
      "metadata": {
        "id": "r0Qmp2V8erc6"
      },
      "source": [
        "Obviously, XGBoost is the best performer in all evaluation metrics!"
      ]
    },
    {
      "cell_type": "markdown",
      "metadata": {
        "id": "0G8U2fapfh7Z"
      },
      "source": [
        "# Modeling on balanced data after undersampling"
      ]
    },
    {
      "cell_type": "markdown",
      "source": [
        "In this part, we will first utilize undersampling technique to resample our dataset. Afterwards, we'll conduct the four models (Logistic Regression, Decision Tree, Random Forest, and XGBoost) we've used above to train the balanced dataset. Here GridSearchCV is utilized for figuring out optimal parameters. The model with the highest score in both training and cross-validation dataset will be regarded as the best model.\n",
        "\n",
        "Meanwhile, as guided in the Kaggle dataset instruction, we'd utilize a series of new metrics like **Precision score, Recall score**, etc to evaluate the performance of different models."
      ],
      "metadata": {
        "id": "Cpw-5qDqN9b6"
      }
    },
    {
      "cell_type": "markdown",
      "source": [
        "### Undersampling"
      ],
      "metadata": {
        "id": "Ym04YR3K6fse"
      }
    },
    {
      "cell_type": "code",
      "execution_count": 51,
      "metadata": {
        "colab": {
          "base_uri": "https://localhost:8080/"
        },
        "id": "whgRuYFGgnEB",
        "outputId": "99517b42-2a49-4366-99f1-304a89da82c8"
      },
      "outputs": [
        {
          "output_type": "execute_result",
          "data": {
            "text/plain": [
              "Counter({0: 199019, 1: 345})"
            ]
          },
          "metadata": {},
          "execution_count": 51
        }
      ],
      "source": [
        "Counter(y_train)"
      ]
    },
    {
      "cell_type": "code",
      "execution_count": 52,
      "metadata": {
        "id": "je1B40FMYVUL"
      },
      "outputs": [],
      "source": [
        "# instantiating the random undersampler \n",
        "rus = RandomUnderSampler()\n",
        "# resampling X, y\n",
        "X_train_rus, y_train_rus = rus.fit_resample(X_train, y_train)"
      ]
    },
    {
      "cell_type": "code",
      "execution_count": 53,
      "metadata": {
        "colab": {
          "base_uri": "https://localhost:8080/"
        },
        "id": "Z9ODcGW7fhaT",
        "outputId": "487d60bf-c4f5-4ee9-89d2-e5ef8cd42936"
      },
      "outputs": [
        {
          "output_type": "execute_result",
          "data": {
            "text/plain": [
              "Counter({0: 345, 1: 345})"
            ]
          },
          "metadata": {},
          "execution_count": 53
        }
      ],
      "source": [
        "Counter(y_train_rus)"
      ]
    },
    {
      "cell_type": "markdown",
      "metadata": {
        "id": "Y-z5G0luhihy"
      },
      "source": [
        "### Logistic regression"
      ]
    },
    {
      "cell_type": "code",
      "execution_count": null,
      "metadata": {
        "id": "RYCFvb1pfmz1"
      },
      "outputs": [],
      "source": [
        "# Creating KFold object with 5 splits\n",
        "folds = KFold(n_splits=5, shuffle=True, random_state=0)\n",
        "# Specify params\n",
        "parameters = {\"C\": [0.01, 0.1, 1, 10, 100, 1000]}\n",
        "# Specifing score as roc-auc\n",
        "m_cv_lr = GridSearchCV(estimator = LogisticRegression(),\n",
        "                        param_grid = parameters, \n",
        "                        scoring= 'roc_auc', \n",
        "                        cv = folds, \n",
        "                        verbose = 1,\n",
        "                        return_train_score=True) \n",
        "# Fit the model\n",
        "m_cv_lr.fit(X_train_rus, y_train_rus)"
      ]
    },
    {
      "cell_type": "code",
      "execution_count": 55,
      "metadata": {
        "colab": {
          "base_uri": "https://localhost:8080/",
          "height": 336
        },
        "id": "Fzozb4q2ibrN",
        "outputId": "34a650a6-5821-43ac-dddb-218893a377e5"
      },
      "outputs": [
        {
          "output_type": "display_data",
          "data": {
            "text/plain": [
              "<Figure size 576x360 with 1 Axes>"
            ],
            "image/png": "[encoded data removed]"
          },
          "metadata": {
            "needs_background": "light"
          }
        }
      ],
      "source": [
        "cv_results = pd.DataFrame(m_cv_lr.cv_results_)\n",
        "\n",
        "# plot of C versus train and validation scores\n",
        "plt.figure(figsize=(8, 5))\n",
        "plt.plot(cv_results['param_C'], cv_results['mean_test_score'])\n",
        "plt.plot(cv_results['param_C'], cv_results['mean_train_score'])\n",
        "plt.xlabel('C')\n",
        "plt.ylabel('ROC_AUC')\n",
        "plt.legend(['Test result', 'Train result'], loc='upper left')\n",
        "plt.xscale('log');"
      ]
    },
    {
      "cell_type": "code",
      "execution_count": 56,
      "metadata": {
        "colab": {
          "base_uri": "https://localhost:8080/"
        },
        "id": "qSlacqdyibaT",
        "outputId": "70987dc3-c3f6-470e-cfb8-23f424ad0e26"
      },
      "outputs": [
        {
          "output_type": "stream",
          "name": "stdout",
          "text": [
            " The highest test ROC_AUC is 0.9811662623920097 at C = 0.1\n"
          ]
        }
      ],
      "source": [
        "# Best score with best C\n",
        "best_score = m_cv_lr.best_score_\n",
        "best_C = m_cv_lr.best_params_['C']\n",
        "print(\" The highest test ROC_AUC is {0} at C = {1}\".format(best_score, best_C))"
      ]
    },
    {
      "cell_type": "code",
      "execution_count": 57,
      "metadata": {
        "id": "KMnWCNUijNSa"
      },
      "outputs": [],
      "source": [
        "# Instantiate the model with best C\n",
        "logistic_bal_rus = LogisticRegression(C=0.1)\n",
        "# Fit the model on the train set\n",
        "logistic_bal_rus_model = logistic_bal_rus.fit(X_train_rus, y_train_rus)"
      ]
    },
    {
      "cell_type": "markdown",
      "metadata": {
        "id": "qrmKgjHRlYPu"
      },
      "source": [
        "1. Predictions on the train set"
      ]
    },
    {
      "cell_type": "code",
      "execution_count": 58,
      "metadata": {
        "id": "28wV2hARjTv0"
      },
      "outputs": [],
      "source": [
        "y_train_pred = logistic_bal_rus_model.predict(X_train_rus)"
      ]
    },
    {
      "cell_type": "code",
      "execution_count": 59,
      "metadata": {
        "id": "DbI8V2oIkUs7"
      },
      "outputs": [],
      "source": [
        "y_train_pred_proba = logistic_bal_rus_model.predict_proba(X_train_rus)[:,1]"
      ]
    },
    {
      "cell_type": "code",
      "execution_count": 60,
      "metadata": {
        "colab": {
          "base_uri": "https://localhost:8080/"
        },
        "id": "uwKUnU4rliCn",
        "outputId": "0b2a12e5-58f3-43d3-f86c-9d74c8cadc2e"
      },
      "outputs": [
        {
          "output_type": "execute_result",
          "data": {
            "text/plain": [
              "0.9884141986977526"
            ]
          },
          "metadata": {},
          "execution_count": 60
        }
      ],
      "source": [
        "metrics.roc_auc_score(y_train_rus, y_train_pred_proba)"
      ]
    },
    {
      "cell_type": "code",
      "source": [
        "def draw_roc(actual, probs):\n",
        "    fpr, tpr, thresholds = metrics.roc_curve(actual, probs)\n",
        "    auc_score = metrics.roc_auc_score( actual, probs )\n",
        "    plt.figure(figsize=(5, 5))\n",
        "    plt.plot( fpr, tpr, label='ROC curve (area = %0.2f)' % auc_score )\n",
        "    plt.plot([0, 1], [0, 1], 'k--')\n",
        "    plt.axis([-0.01,1,0,1])\n",
        "    plt.xlabel('False Positive Rate or [1 - True Negative Rate]')\n",
        "    plt.ylabel('True Positive Rate')\n",
        "    plt.title('ROC Curve')\n",
        "    plt.legend(loc=\"lower right\")\n",
        "    plt.show()\n",
        "\n",
        "    return None"
      ],
      "metadata": {
        "id": "miXXDKM837BC"
      },
      "execution_count": 63,
      "outputs": []
    },
    {
      "cell_type": "code",
      "execution_count": 64,
      "metadata": {
        "colab": {
          "base_uri": "https://localhost:8080/",
          "height": 349
        },
        "id": "QKIr_LnQkb43",
        "outputId": "86b61ceb-5a02-4f1d-90f1-c0ee858eba78"
      },
      "outputs": [
        {
          "output_type": "display_data",
          "data": {
            "text/plain": [
              "<Figure size 360x360 with 1 Axes>"
            ],
            "image/png": "[encoded data removed]"
          },
          "metadata": {
            "needs_background": "light"
          }
        }
      ],
      "source": [
        "draw_roc(y_train_rus, y_train_pred_proba)"
      ]
    },
    {
      "cell_type": "markdown",
      "metadata": {
        "id": "34jexPcylTvL"
      },
      "source": [
        "2. Predictions on the test set"
      ]
    },
    {
      "cell_type": "code",
      "execution_count": 65,
      "metadata": {
        "id": "gkq3di8ik76a"
      },
      "outputs": [],
      "source": [
        "y_test_pred = logistic_bal_rus_model.predict(X_test)"
      ]
    },
    {
      "cell_type": "code",
      "execution_count": 66,
      "metadata": {
        "id": "Kb_sThULlGzz"
      },
      "outputs": [],
      "source": [
        "y_test_pred_proba = logistic_bal_rus_model.predict_proba(X_test)[:,1]"
      ]
    },
    {
      "cell_type": "code",
      "execution_count": 67,
      "metadata": {
        "colab": {
          "base_uri": "https://localhost:8080/"
        },
        "id": "tQy3d4BWlfMB",
        "outputId": "83330843-6082-4fa2-b514-d457f6dec840"
      },
      "outputs": [
        {
          "output_type": "execute_result",
          "data": {
            "text/plain": [
              "0.9798186579077326"
            ]
          },
          "metadata": {},
          "execution_count": 67
        }
      ],
      "source": [
        "metrics.roc_auc_score(y_test, y_test_pred_proba)"
      ]
    },
    {
      "cell_type": "code",
      "execution_count": 68,
      "metadata": {
        "colab": {
          "base_uri": "https://localhost:8080/",
          "height": 349
        },
        "id": "8n5uPU51lNtn",
        "outputId": "39fcc22c-31db-4c50-9f66-91176bd93ecf"
      },
      "outputs": [
        {
          "output_type": "display_data",
          "data": {
            "text/plain": [
              "<Figure size 360x360 with 1 Axes>"
            ],
            "image/png": "[encoded data removed]"
          },
          "metadata": {
            "needs_background": "light"
          }
        }
      ],
      "source": [
        "draw_roc(y_test, y_test_pred_proba)"
      ]
    },
    {
      "cell_type": "code",
      "source": [
        "print('Train set: \\n')\n",
        "print('Recall Score: {:.2f}'.format(recall_score(y_train_rus, y_train_pred)))\n",
        "print('Precision Score: {:.2f}'.format(precision_score(y_train_rus, y_train_pred)))\n",
        "print('F1 Score: {:.2f}'.format(f1_score(y_train_rus, y_train_pred)))\n",
        "print('Accuracy Score: {:.2f}'.format(accuracy_score(y_train_rus, y_train_pred)))"
      ],
      "metadata": {
        "colab": {
          "base_uri": "https://localhost:8080/"
        },
        "id": "4HLH7iGA2swR",
        "outputId": "38d67722-05ab-4bea-df87-6c113c07b600"
      },
      "execution_count": 69,
      "outputs": [
        {
          "output_type": "stream",
          "name": "stdout",
          "text": [
            "Train set: \n",
            "\n",
            "Recall Score: 0.92\n",
            "Precision Score: 0.98\n",
            "F1 Score: 0.95\n",
            "Accuracy Score: 0.95\n"
          ]
        }
      ]
    },
    {
      "cell_type": "code",
      "source": [
        "print('Test set:\\n')\n",
        "print('Recall Score: {:.2f}'.format(recall_score(y_test, y_test_pred)))\n",
        "print('Precision Score: {:.2f}'.format(precision_score(y_test, y_test_pred)))\n",
        "print('F1 Score: {:.2f}'.format(f1_score(y_test, y_test_pred)))\n",
        "print('Accuracy Score: {:.2f}'.format(accuracy_score(y_test, y_test_pred)))"
      ],
      "metadata": {
        "colab": {
          "base_uri": "https://localhost:8080/"
        },
        "id": "nSxiSP742uwT",
        "outputId": "e2126bd9-a225-4158-9566-93b90c14c452"
      },
      "execution_count": 70,
      "outputs": [
        {
          "output_type": "stream",
          "name": "stdout",
          "text": [
            "Test set:\n",
            "\n",
            "Recall Score: 0.91\n",
            "Precision Score: 0.05\n",
            "F1 Score: 0.10\n",
            "Accuracy Score: 0.97\n"
          ]
        }
      ]
    },
    {
      "cell_type": "markdown",
      "metadata": {
        "id": "4RtCGfjQhuua"
      },
      "source": [
        "### Decision tree"
      ]
    },
    {
      "cell_type": "code",
      "execution_count": 71,
      "metadata": {
        "colab": {
          "base_uri": "https://localhost:8080/"
        },
        "id": "p69xfxQpqvtL",
        "outputId": "13b1525f-5951-44a1-95b7-c3598aff5c74"
      },
      "outputs": [
        {
          "output_type": "stream",
          "name": "stdout",
          "text": [
            "Fitting 3 folds for each of 8 candidates, totalling 24 fits\n"
          ]
        },
        {
          "output_type": "execute_result",
          "data": {
            "text/plain": [
              "GridSearchCV(cv=3, estimator=DecisionTreeClassifier(),\n",
              "             param_grid={'max_depth': range(5, 15, 5),\n",
              "                         'min_samples_leaf': range(50, 150, 50),\n",
              "                         'min_samples_split': range(50, 150, 50)},\n",
              "             scoring='roc_auc', verbose=1)"
            ]
          },
          "metadata": {},
          "execution_count": 71
        }
      ],
      "source": [
        "param_grid = {\n",
        "    'max_depth': range(5, 15, 5),\n",
        "    'min_samples_leaf': range(50, 150, 50),\n",
        "    'min_samples_split': range(50, 150, 50),\n",
        "}\n",
        "\n",
        "\n",
        "# Instantiate the grid search model\n",
        "dtree = DecisionTreeClassifier()\n",
        "\n",
        "grid_search = GridSearchCV(estimator = dtree, \n",
        "                           param_grid = param_grid, \n",
        "                           scoring= 'roc_auc',\n",
        "                           cv = 3, \n",
        "                           verbose = 1)\n",
        "\n",
        "# Fit the grid search to the data\n",
        "grid_search.fit(X_train_rus,y_train_rus)"
      ]
    },
    {
      "cell_type": "code",
      "execution_count": 72,
      "metadata": {
        "id": "Z8NvoQ_-qzwI"
      },
      "outputs": [],
      "source": [
        "cv_results = pd.DataFrame(grid_search.cv_results_)"
      ]
    },
    {
      "cell_type": "code",
      "execution_count": 73,
      "metadata": {
        "colab": {
          "base_uri": "https://localhost:8080/"
        },
        "id": "YJypORg_rBwX",
        "outputId": "3c99dc5a-c135-496a-bc54-d31561c86bec"
      },
      "outputs": [
        {
          "output_type": "stream",
          "name": "stdout",
          "text": [
            "Best roc_auc:- 0.9679647132955261\n",
            "DecisionTreeClassifier(max_depth=10, min_samples_leaf=50, min_samples_split=100)\n"
          ]
        }
      ],
      "source": [
        "print(\"Best roc_auc:-\", grid_search.best_score_)\n",
        "print(grid_search.best_estimator_)"
      ]
    },
    {
      "cell_type": "code",
      "execution_count": 74,
      "metadata": {
        "colab": {
          "base_uri": "https://localhost:8080/"
        },
        "id": "opFYGZ8Cqzqs",
        "outputId": "4f06ffef-8b6d-4217-d414-d365c5b8af8b"
      },
      "outputs": [
        {
          "output_type": "execute_result",
          "data": {
            "text/plain": [
              "DecisionTreeClassifier(max_depth=5, min_samples_leaf=50, min_samples_split=50,\n",
              "                       random_state=100)"
            ]
          },
          "metadata": {},
          "execution_count": 74
        }
      ],
      "source": [
        "dt_bal_rus_model = DecisionTreeClassifier(criterion = \"gini\", \n",
        "                                  random_state = 100,\n",
        "                                  max_depth=5, \n",
        "                                  min_samples_leaf=50,\n",
        "                                  min_samples_split=50)\n",
        "\n",
        "dt_bal_rus_model.fit(X_train_rus, y_train_rus)"
      ]
    },
    {
      "cell_type": "markdown",
      "metadata": {
        "id": "Giw-vPLgrGsZ"
      },
      "source": [
        "1. Prediction on the train set"
      ]
    },
    {
      "cell_type": "code",
      "execution_count": 75,
      "metadata": {
        "id": "oXGqQ_KbrHpe"
      },
      "outputs": [],
      "source": [
        "y_train_pred = dt_bal_rus_model.predict(X_train_rus)"
      ]
    },
    {
      "cell_type": "code",
      "execution_count": 76,
      "metadata": {
        "colab": {
          "base_uri": "https://localhost:8080/"
        },
        "id": "UNkFN-LMrSqr",
        "outputId": "1cb96d26-9b61-4723-fb0e-0f97117325bb"
      },
      "outputs": [
        {
          "output_type": "execute_result",
          "data": {
            "text/plain": [
              "0.9842302037387104"
            ]
          },
          "metadata": {},
          "execution_count": 76
        }
      ],
      "source": [
        "y_train_pred_proba = dt_bal_rus_model.predict_proba(X_train_rus)[:,1]\n",
        "metrics.roc_auc_score(y_train_rus, y_train_pred_proba)"
      ]
    },
    {
      "cell_type": "code",
      "execution_count": 77,
      "metadata": {
        "colab": {
          "base_uri": "https://localhost:8080/",
          "height": 349
        },
        "id": "eWYl72k8rSjN",
        "outputId": "f8ad987a-f036-415b-99f5-c115432d3c6f"
      },
      "outputs": [
        {
          "output_type": "display_data",
          "data": {
            "text/plain": [
              "<Figure size 360x360 with 1 Axes>"
            ],
            "image/png": "[encoded data removed]"
          },
          "metadata": {
            "needs_background": "light"
          }
        }
      ],
      "source": [
        "draw_roc(y_train_rus, y_train_pred_proba)"
      ]
    },
    {
      "cell_type": "markdown",
      "metadata": {
        "id": "i3vxhUMxrX94"
      },
      "source": [
        "2. Prediction on the test set"
      ]
    },
    {
      "cell_type": "code",
      "execution_count": 78,
      "metadata": {
        "id": "HsGqrJcMrSbA"
      },
      "outputs": [],
      "source": [
        "y_test_pred = dt_bal_rus_model.predict(X_test)"
      ]
    },
    {
      "cell_type": "code",
      "execution_count": 79,
      "metadata": {
        "colab": {
          "base_uri": "https://localhost:8080/"
        },
        "id": "G9FuMWjdrkcJ",
        "outputId": "890f1dbe-313a-4baf-d8c1-9fd4c0050357"
      },
      "outputs": [
        {
          "output_type": "execute_result",
          "data": {
            "text/plain": [
              "0.9581955578141967"
            ]
          },
          "metadata": {},
          "execution_count": 79
        }
      ],
      "source": [
        "y_test_pred_proba = dt_bal_rus_model.predict_proba(X_test)[:,1]\n",
        "metrics.roc_auc_score(y_test, y_test_pred_proba)"
      ]
    },
    {
      "cell_type": "code",
      "execution_count": 80,
      "metadata": {
        "colab": {
          "base_uri": "https://localhost:8080/",
          "height": 349
        },
        "id": "IDxr6OzVrnzy",
        "outputId": "ea9b6fe3-e5f8-4234-ce81-472203cfa204"
      },
      "outputs": [
        {
          "output_type": "display_data",
          "data": {
            "text/plain": [
              "<Figure size 360x360 with 1 Axes>"
            ],
            "image/png": "[encoded data removed]"
          },
          "metadata": {
            "needs_background": "light"
          }
        }
      ],
      "source": [
        "draw_roc(y_test, y_test_pred_proba)"
      ]
    },
    {
      "cell_type": "code",
      "source": [
        "print('Train set: \\n')\n",
        "print('Recall Score: {:.2f}'.format(recall_score(y_train_rus, y_train_pred)))\n",
        "print('Precision Score: {:.2f}'.format(precision_score(y_train_rus, y_train_pred)))\n",
        "print('F1 Score: {:.2f}'.format(f1_score(y_train_rus, y_train_pred)))\n",
        "print('Accuracy Score: {:.2f}'.format(accuracy_score(y_train_rus, y_train_pred)))"
      ],
      "metadata": {
        "colab": {
          "base_uri": "https://localhost:8080/"
        },
        "outputId": "1aa5b485-f5b8-4fe1-da3c-ddbc4ac9cefe",
        "id": "yH4KotfA4bAl"
      },
      "execution_count": 81,
      "outputs": [
        {
          "metadata": {
            "tags": null
          },
          "name": "stdout",
          "output_type": "stream",
          "text": [
            "Train set: \n",
            "\n",
            "Recall Score: 0.89\n",
            "Precision Score: 0.98\n",
            "F1 Score: 0.93\n",
            "Accuracy Score: 0.94\n"
          ]
        }
      ]
    },
    {
      "cell_type": "code",
      "source": [
        "print('Test set:\\n')\n",
        "print('Recall Score: {:.2f}'.format(recall_score(y_test, y_test_pred)))\n",
        "print('Precision Score: {:.2f}'.format(precision_score(y_test, y_test_pred)))\n",
        "print('F1 Score: {:.2f}'.format(f1_score(y_test, y_test_pred)))\n",
        "print('Accuracy Score: {:.2f}'.format(accuracy_score(y_test, y_test_pred)))"
      ],
      "metadata": {
        "colab": {
          "base_uri": "https://localhost:8080/"
        },
        "outputId": "7613d006-a40f-4a95-fd7c-6b1e17d00426",
        "id": "3SaI857g4bAn"
      },
      "execution_count": 82,
      "outputs": [
        {
          "output_type": "stream",
          "name": "stdout",
          "text": [
            "Test set:\n",
            "\n",
            "Recall Score: 0.86\n",
            "Precision Score: 0.03\n",
            "F1 Score: 0.06\n",
            "Accuracy Score: 0.95\n"
          ]
        }
      ]
    },
    {
      "cell_type": "markdown",
      "metadata": {
        "id": "SUMjoWM7hwU7"
      },
      "source": [
        "### Random forest"
      ]
    },
    {
      "cell_type": "code",
      "execution_count": 83,
      "metadata": {
        "colab": {
          "base_uri": "https://localhost:8080/"
        },
        "id": "wHUcWS7Qfmm0",
        "outputId": "6ae0e279-67a9-4a22-fccd-01759ab6aa38"
      },
      "outputs": [
        {
          "output_type": "stream",
          "name": "stdout",
          "text": [
            "Fitting 2 folds for each of 24 candidates, totalling 48 fits\n"
          ]
        },
        {
          "output_type": "execute_result",
          "data": {
            "text/plain": [
              "GridSearchCV(cv=2, estimator=RandomForestClassifier(), n_jobs=-1,\n",
              "             param_grid={'max_depth': range(5, 10, 5), 'max_features': [10, 20],\n",
              "                         'min_samples_leaf': range(50, 150, 50),\n",
              "                         'min_samples_split': range(50, 150, 50),\n",
              "                         'n_estimators': [100, 200, 300]},\n",
              "             return_train_score=True, scoring='roc_auc', verbose=1)"
            ]
          },
          "metadata": {},
          "execution_count": 83
        }
      ],
      "source": [
        "param_grid = {\n",
        "    'max_depth': range(5,10,5),\n",
        "    'min_samples_leaf': range(50, 150, 50),\n",
        "    'min_samples_split': range(50, 150, 50),\n",
        "    'n_estimators': [100,200,300], \n",
        "    'max_features': [10, 20]\n",
        "}\n",
        "# Create a based model\n",
        "rf = RandomForestClassifier()\n",
        "# Instantiate the grid search model\n",
        "grid_search = GridSearchCV(estimator = rf, \n",
        "                           param_grid = param_grid, \n",
        "                           scoring= 'roc_auc',\n",
        "                           cv = 2,\n",
        "                           n_jobs = -1,\n",
        "                           verbose = 1, \n",
        "                           return_train_score=True)\n",
        "\n",
        "# Fit the model\n",
        "grid_search.fit(X_train_rus, y_train_rus)"
      ]
    },
    {
      "cell_type": "code",
      "execution_count": 84,
      "metadata": {
        "colab": {
          "base_uri": "https://localhost:8080/"
        },
        "id": "ud5s9eTmqYPm",
        "outputId": "eaafba1f-1b03-4693-8112-2f773f650d37"
      },
      "outputs": [
        {
          "output_type": "stream",
          "name": "stdout",
          "text": [
            "We can get roc-auc of 0.97731549939508 using {'max_depth': 5, 'max_features': 10, 'min_samples_leaf': 50, 'min_samples_split': 100, 'n_estimators': 200}\n"
          ]
        }
      ],
      "source": [
        "print('We can get roc-auc of',grid_search.best_score_,'using',grid_search.best_params_)"
      ]
    },
    {
      "cell_type": "code",
      "execution_count": 85,
      "metadata": {
        "colab": {
          "base_uri": "https://localhost:8080/"
        },
        "id": "T-a_NH9Hru6H",
        "outputId": "08c45954-28d1-4ad2-e966-6d09a383b0b9"
      },
      "outputs": [
        {
          "output_type": "execute_result",
          "data": {
            "text/plain": [
              "RandomForestClassifier(max_depth=5, max_features=10, min_samples_leaf=50,\n",
              "                       min_samples_split=50, n_estimators=200)"
            ]
          },
          "metadata": {},
          "execution_count": 85
        }
      ],
      "source": [
        "rfc_bal_rus_model = RandomForestClassifier(bootstrap=True,\n",
        "                             max_depth=5,\n",
        "                             min_samples_leaf=50, \n",
        "                             min_samples_split=50,\n",
        "                             max_features=10,\n",
        "                             n_estimators=200)\n",
        "\n",
        "rfc_bal_rus_model.fit(X_train_rus, y_train_rus)"
      ]
    },
    {
      "cell_type": "markdown",
      "metadata": {
        "id": "oTkCZ3gprx_2"
      },
      "source": [
        "1. Prediction on the train set"
      ]
    },
    {
      "cell_type": "code",
      "execution_count": 106,
      "metadata": {
        "id": "GJTuGK8Nr0O6"
      },
      "outputs": [],
      "source": [
        "y_train_pred = rfc_bal_rus_model.predict(X_train_rus)"
      ]
    },
    {
      "cell_type": "code",
      "execution_count": 107,
      "metadata": {
        "colab": {
          "base_uri": "https://localhost:8080/"
        },
        "id": "q9uJKciofmiK",
        "outputId": "ca8ae25a-e419-4551-c139-b6d7a1832e23"
      },
      "outputs": [
        {
          "output_type": "execute_result",
          "data": {
            "text/plain": [
              "0.9884730098718757"
            ]
          },
          "metadata": {},
          "execution_count": 107
        }
      ],
      "source": [
        "y_train_pred_proba = rfc_bal_rus_model.predict_proba(X_train_rus)[:,1]\n",
        "metrics.roc_auc_score(y_train_rus, y_train_pred_proba)"
      ]
    },
    {
      "cell_type": "code",
      "execution_count": 108,
      "metadata": {
        "colab": {
          "base_uri": "https://localhost:8080/",
          "height": 349
        },
        "id": "66BPwpOYhohN",
        "outputId": "49b4521f-0bad-45fd-84aa-c1bddaf06856"
      },
      "outputs": [
        {
          "output_type": "display_data",
          "data": {
            "text/plain": [
              "<Figure size 360x360 with 1 Axes>"
            ],
            "image/png": "[encoded data removed]"
          },
          "metadata": {
            "needs_background": "light"
          }
        }
      ],
      "source": [
        "draw_roc(y_train_rus, y_train_pred_proba)"
      ]
    },
    {
      "cell_type": "markdown",
      "metadata": {
        "id": "oJItre3MsA7u"
      },
      "source": [
        "2. Prediction on the test set"
      ]
    },
    {
      "cell_type": "code",
      "execution_count": 112,
      "metadata": {
        "id": "cICg_qwKqfHt"
      },
      "outputs": [],
      "source": [
        "y_test_pred = rfc_bal_rus_model.predict(X_test)"
      ]
    },
    {
      "cell_type": "code",
      "execution_count": 113,
      "metadata": {
        "id": "AySxm9np5vTQ"
      },
      "outputs": [],
      "source": [
        "y_test_pred_proba = rfc_bal_rus_model.predict_proba(X_test)[:,1]"
      ]
    },
    {
      "cell_type": "code",
      "execution_count": 114,
      "metadata": {
        "colab": {
          "base_uri": "https://localhost:8080/"
        },
        "outputId": "08522a0b-3902-4205-b1ac-2c6b62dc0346",
        "id": "EMDirYib5vTR"
      },
      "outputs": [
        {
          "output_type": "execute_result",
          "data": {
            "text/plain": [
              "0.9697874436775273"
            ]
          },
          "metadata": {},
          "execution_count": 114
        }
      ],
      "source": [
        "metrics.roc_auc_score(y_test, y_test_pred_proba)"
      ]
    },
    {
      "cell_type": "code",
      "execution_count": 115,
      "metadata": {
        "colab": {
          "base_uri": "https://localhost:8080/",
          "height": 349
        },
        "outputId": "7c888503-6233-4976-e721-249061c9c158",
        "id": "qC-qslIB5vTS"
      },
      "outputs": [
        {
          "output_type": "display_data",
          "data": {
            "text/plain": [
              "<Figure size 360x360 with 1 Axes>"
            ],
            "image/png": "[encoded data removed]"
          },
          "metadata": {
            "needs_background": "light"
          }
        }
      ],
      "source": [
        "draw_roc(y_test, y_test_pred_proba)"
      ]
    },
    {
      "cell_type": "code",
      "source": [
        "print('Train set: \\n')\n",
        "print('Recall Score: {:.2f}'.format(recall_score(y_train_rus, y_train_pred)))\n",
        "print('Precision Score: {:.2f}'.format(precision_score(y_train_rus, y_train_pred)))\n",
        "print('F1 Score: {:.2f}'.format(f1_score(y_train_rus, y_train_pred)))\n",
        "print('Accuracy Score: {:.2f}'.format(accuracy_score(y_train_rus, y_train_pred)))"
      ],
      "metadata": {
        "colab": {
          "base_uri": "https://localhost:8080/"
        },
        "outputId": "919f69b9-0af1-4338-94d6-d40c2c741678",
        "id": "AEYjp4274qSW"
      },
      "execution_count": 90,
      "outputs": [
        {
          "output_type": "stream",
          "name": "stdout",
          "text": [
            "Train set: \n",
            "\n",
            "Recall Score: 0.90\n",
            "Precision Score: 0.98\n",
            "F1 Score: 0.94\n",
            "Accuracy Score: 0.94\n"
          ]
        }
      ]
    },
    {
      "cell_type": "code",
      "source": [
        "print('Test set:\\n')\n",
        "print('Recall Score: {:.2f}'.format(recall_score(y_test, y_test_pred)))\n",
        "print('Precision Score: {:.2f}'.format(precision_score(y_test, y_test_pred)))\n",
        "print('F1 Score: {:.2f}'.format(f1_score(y_test, y_test_pred)))\n",
        "print('Accuracy Score: {:.2f}'.format(accuracy_score(y_test, y_test_pred)))"
      ],
      "metadata": {
        "colab": {
          "base_uri": "https://localhost:8080/"
        },
        "outputId": "dfa191c8-90fe-4fa7-b0ee-8b2637e9cbaa",
        "id": "e_agwhRd4qSX"
      },
      "execution_count": 91,
      "outputs": [
        {
          "output_type": "stream",
          "name": "stdout",
          "text": [
            "Test set:\n",
            "\n",
            "Recall Score: 0.88\n",
            "Precision Score: 0.04\n",
            "F1 Score: 0.07\n",
            "Accuracy Score: 0.96\n"
          ]
        }
      ]
    },
    {
      "cell_type": "markdown",
      "metadata": {
        "id": "W31t3MunhpMq"
      },
      "source": [
        "### XGBoost"
      ]
    },
    {
      "cell_type": "code",
      "execution_count": 92,
      "metadata": {
        "colab": {
          "base_uri": "https://localhost:8080/"
        },
        "id": "6AlrEaLHfmr4",
        "outputId": "1ff3562c-b46c-4621-f480-3776043b1490"
      },
      "outputs": [
        {
          "output_type": "stream",
          "name": "stdout",
          "text": [
            "Fitting 3 folds for each of 6 candidates, totalling 18 fits\n"
          ]
        },
        {
          "output_type": "execute_result",
          "data": {
            "text/plain": [
              "GridSearchCV(cv=3, estimator=XGBClassifier(max_depth=2, n_estimators=200),\n",
              "             param_grid={'learning_rate': [0.2, 0.6],\n",
              "                         'subsample': [0.3, 0.6, 0.9]},\n",
              "             return_train_score=True, scoring='roc_auc', verbose=1)"
            ]
          },
          "metadata": {},
          "execution_count": 92
        }
      ],
      "source": [
        "# creating a KFold object \n",
        "folds = 3\n",
        "# specify range of hyperparameters\n",
        "param_grid = {'learning_rate': [0.2, 0.6], \n",
        "             'subsample': [0.3, 0.6, 0.9]}          \n",
        "\n",
        "# specify model\n",
        "xgb_model = XGBClassifier(max_depth=2, n_estimators=200)\n",
        "# set up GridSearchCV()\n",
        "m_cv_xgb = GridSearchCV(estimator = xgb_model, \n",
        "                        param_grid = param_grid, \n",
        "                        scoring= 'roc_auc', \n",
        "                        cv = folds, \n",
        "                        verbose = 1,\n",
        "                        return_train_score=True)      \n",
        "# fit the model\n",
        "m_cv_xgb.fit(X_train_rus, y_train_rus)"
      ]
    },
    {
      "cell_type": "code",
      "execution_count": 93,
      "metadata": {
        "colab": {
          "base_uri": "https://localhost:8080/",
          "height": 405
        },
        "id": "ojL_jiTeoxc1",
        "outputId": "44b2e0f8-5118-4a62-c3db-2f76e086370f"
      },
      "outputs": [
        {
          "output_type": "display_data",
          "data": {
            "text/plain": [
              "<Figure size 1152x432 with 3 Axes>"
            ],
            "image/png": "[encoded data removed]"
          },
          "metadata": {
            "needs_background": "light"
          }
        }
      ],
      "source": [
        "cv_results = pd.DataFrame(m_cv_xgb.cv_results_)\n",
        "plt.figure(figsize=(16,6))\n",
        "param_grid = {'learning_rate': [0.2, 0.6], \n",
        "             'subsample': [0.3, 0.6, 0.9]} \n",
        "for n, subsample in enumerate(param_grid['subsample']):\n",
        "    # subplot 1/n\n",
        "    plt.subplot(1,len(param_grid['subsample']), n+1)\n",
        "    df = cv_results[cv_results['param_subsample']==subsample]\n",
        "    plt.plot(df[\"param_learning_rate\"], df[\"mean_test_score\"])\n",
        "    plt.plot(df[\"param_learning_rate\"], df[\"mean_train_score\"])\n",
        "    plt.xlabel('learning_rate')\n",
        "    plt.ylabel('AUC')\n",
        "    plt.title(\"subsample={0}\".format(subsample))\n",
        "    plt.ylim([0.60, 1])\n",
        "    plt.legend(['test score', 'train score'], loc='upper left')\n",
        "    plt.xscale('log')"
      ]
    },
    {
      "cell_type": "code",
      "execution_count": 94,
      "metadata": {
        "colab": {
          "base_uri": "https://localhost:8080/"
        },
        "id": "TGLUjHQgo9Fu",
        "outputId": "f7b2927b-1658-432a-89f6-f9bafeb7e56f"
      },
      "outputs": [
        {
          "output_type": "execute_result",
          "data": {
            "text/plain": [
              "{'learning_rate': 0.2, 'subsample': 0.9}"
            ]
          },
          "metadata": {},
          "execution_count": 94
        }
      ],
      "source": [
        "m_cv_xgb.best_params_"
      ]
    },
    {
      "cell_type": "code",
      "execution_count": 95,
      "metadata": {
        "colab": {
          "base_uri": "https://localhost:8080/"
        },
        "id": "TxTu8fy-pA-m",
        "outputId": "4a281729-11ab-41f0-c545-e6e2cf187de9"
      },
      "outputs": [
        {
          "output_type": "execute_result",
          "data": {
            "text/plain": [
              "XGBClassifier(params={'learning_rate': 0.2, 'max_depth': 2, 'n_estimators': 200,\n",
              "                      'objective': 'binary:logistic', 'subsample': 0.6})"
            ]
          },
          "metadata": {},
          "execution_count": 95
        }
      ],
      "source": [
        "params = {'learning_rate': 0.2,\n",
        "          'max_depth': 2, \n",
        "          'n_estimators':200,\n",
        "          'subsample':0.6,\n",
        "         'objective':'binary:logistic'}\n",
        "xgb_bal_rus_model = XGBClassifier(params = params)\n",
        "xgb_bal_rus_model.fit(X_train_rus, y_train_rus)"
      ]
    },
    {
      "cell_type": "markdown",
      "metadata": {
        "id": "u6PipPL8pH_2"
      },
      "source": [
        "1. Prediction on the train set"
      ]
    },
    {
      "cell_type": "code",
      "execution_count": 96,
      "metadata": {
        "id": "releEhsepGCz"
      },
      "outputs": [],
      "source": [
        "y_train_pred = xgb_bal_rus_model.predict(X_train_rus)"
      ]
    },
    {
      "cell_type": "code",
      "execution_count": 97,
      "metadata": {
        "id": "7WrfgNH8oe20"
      },
      "outputs": [],
      "source": [
        "y_train_pred_proba = xgb_bal_rus_model.predict_proba(X_train_rus)[:,1]"
      ]
    },
    {
      "cell_type": "code",
      "execution_count": 98,
      "metadata": {
        "colab": {
          "base_uri": "https://localhost:8080/"
        },
        "id": "OtcXbnscp4ke",
        "outputId": "f689c2e3-87f2-427d-ba3a-f02e13b2f91c"
      },
      "outputs": [
        {
          "output_type": "execute_result",
          "data": {
            "text/plain": [
              "1.0"
            ]
          },
          "metadata": {},
          "execution_count": 98
        }
      ],
      "source": [
        "metrics.roc_auc_score(y_train_rus, y_train_pred_proba)"
      ]
    },
    {
      "cell_type": "code",
      "execution_count": 99,
      "metadata": {
        "colab": {
          "base_uri": "https://localhost:8080/",
          "height": 349
        },
        "id": "W3Z9GBJ7p2wF",
        "outputId": "b051030c-6ab9-44fe-8f7b-dfbfd369a607"
      },
      "outputs": [
        {
          "output_type": "display_data",
          "data": {
            "text/plain": [
              "<Figure size 360x360 with 1 Axes>"
            ],
            "image/png": "[encoded data removed]"
          },
          "metadata": {
            "needs_background": "light"
          }
        }
      ],
      "source": [
        "draw_roc(y_train_rus, y_train_pred_proba)"
      ]
    },
    {
      "cell_type": "markdown",
      "metadata": {
        "id": "rHQYeBgdp7NN"
      },
      "source": [
        "2. Prediction on the test set"
      ]
    },
    {
      "cell_type": "code",
      "execution_count": 100,
      "metadata": {
        "id": "Nj5CUvKMp79o"
      },
      "outputs": [],
      "source": [
        "y_test_pred = xgb_bal_rus_model.predict(X_test)"
      ]
    },
    {
      "cell_type": "code",
      "execution_count": 101,
      "metadata": {
        "id": "DwdCnaeB5eY1"
      },
      "outputs": [],
      "source": [
        "y_test_pred_proba = xgb_bal_rus_model.predict_proba(X_test)[:,1]"
      ]
    },
    {
      "cell_type": "code",
      "execution_count": 102,
      "metadata": {
        "colab": {
          "base_uri": "https://localhost:8080/"
        },
        "outputId": "f441163b-f3a0-4a16-f052-aa63afc869e8",
        "id": "uv2y2omn5eY2"
      },
      "outputs": [
        {
          "output_type": "execute_result",
          "data": {
            "text/plain": [
              "0.9768529152422551"
            ]
          },
          "metadata": {},
          "execution_count": 102
        }
      ],
      "source": [
        "metrics.roc_auc_score(y_test, y_test_pred_proba)"
      ]
    },
    {
      "cell_type": "code",
      "execution_count": 103,
      "metadata": {
        "colab": {
          "base_uri": "https://localhost:8080/",
          "height": 349
        },
        "outputId": "8fef991a-7b98-4822-d394-c443e7a56c19",
        "id": "I3OLfcCO5eY3"
      },
      "outputs": [
        {
          "output_type": "display_data",
          "data": {
            "text/plain": [
              "<Figure size 360x360 with 1 Axes>"
            ],
            "image/png": "[encoded data removed]"
          },
          "metadata": {
            "needs_background": "light"
          }
        }
      ],
      "source": [
        "draw_roc(y_test, y_test_pred_proba)"
      ]
    },
    {
      "cell_type": "code",
      "source": [
        "print('Train set: \\n')\n",
        "print('Recall Score: {:.2f}'.format(recall_score(y_train_rus, y_train_pred)))\n",
        "print('Precision Score: {:.2f}'.format(precision_score(y_train_rus, y_train_pred)))\n",
        "print('F1 Score: {:.2f}'.format(f1_score(y_train_rus, y_train_pred)))\n",
        "print('Accuracy Score: {:.2f}'.format(accuracy_score(y_train_rus, y_train_pred)))"
      ],
      "metadata": {
        "colab": {
          "base_uri": "https://localhost:8080/"
        },
        "outputId": "b565fb3c-7834-43b7-d599-8391db6183d6",
        "id": "Ypa3y20b5JJI"
      },
      "execution_count": 104,
      "outputs": [
        {
          "output_type": "stream",
          "name": "stdout",
          "text": [
            "Train set: \n",
            "\n",
            "Recall Score: 1.00\n",
            "Precision Score: 1.00\n",
            "F1 Score: 1.00\n",
            "Accuracy Score: 1.00\n"
          ]
        }
      ]
    },
    {
      "cell_type": "code",
      "source": [
        "print('Test set:\\n')\n",
        "print('Recall Score: {:.2f}'.format(recall_score(y_test, y_test_pred)))\n",
        "print('Precision Score: {:.2f}'.format(precision_score(y_test, y_test_pred)))\n",
        "print('F1 Score: {:.2f}'.format(f1_score(y_test, y_test_pred)))\n",
        "print('Accuracy Score: {:.2f}'.format(accuracy_score(y_test, y_test_pred)))"
      ],
      "metadata": {
        "colab": {
          "base_uri": "https://localhost:8080/"
        },
        "outputId": "ae4c3b3e-5d0e-4814-807e-edba28126872",
        "id": "mcbeoU825JJJ"
      },
      "execution_count": 105,
      "outputs": [
        {
          "output_type": "stream",
          "name": "stdout",
          "text": [
            "Test set:\n",
            "\n",
            "Recall Score: 0.91\n",
            "Precision Score: 0.03\n",
            "F1 Score: 0.07\n",
            "Accuracy Score: 0.96\n"
          ]
        }
      ]
    },
    {
      "cell_type": "markdown",
      "source": [
        "Both **XGBoost** and Logistic Regression performs better in terms of precision and recall score.\n",
        "\n",
        "In the next part, we'd try another resampling methodology - **SMOTE** (Synthetic Minority Oversampling Technique) and modeling once again with the revised dataset."
      ],
      "metadata": {
        "id": "EuU8df_I7Bdt"
      }
    },
    {
      "cell_type": "markdown",
      "metadata": {
        "id": "VTwJL5bvh8EP"
      },
      "source": [
        "# Modeling on balanced data after SMOTE"
      ]
    },
    {
      "cell_type": "markdown",
      "source": [
        "As a comparison with undersampling approach, here we would also consider the oversampling method. To save the sapce, I only show the part with SMOTE, a typical example of oversampling as below to represent the oversampling family. ;)\n",
        "\n",
        "**SMOTE** (Synthetic Minority Oversampling Technique) uses nearest neighbor algorithm to create synthetic data."
      ],
      "metadata": {
        "id": "yL3iG2BN8RG2"
      }
    },
    {
      "cell_type": "markdown",
      "source": [
        "### Oversampling"
      ],
      "metadata": {
        "id": "o6zz89lE6aRg"
      }
    },
    {
      "cell_type": "code",
      "execution_count": 116,
      "metadata": {
        "id": "mQ0D2rUBiGgx"
      },
      "outputs": [],
      "source": [
        "sm = SMOTE(random_state=0)\n",
        "X_train_smote, y_train_smote = sm.fit_resample(X_train, y_train)"
      ]
    },
    {
      "cell_type": "code",
      "execution_count": 117,
      "metadata": {
        "colab": {
          "base_uri": "https://localhost:8080/"
        },
        "id": "7pd-ssiC17FM",
        "outputId": "29270f80-b138-4293-9322-e0b72d78f7e6"
      },
      "outputs": [
        {
          "output_type": "execute_result",
          "data": {
            "text/plain": [
              "(199364, 29)"
            ]
          },
          "metadata": {},
          "execution_count": 117
        }
      ],
      "source": [
        "#before SMOTE\n",
        "X_train.shape"
      ]
    },
    {
      "cell_type": "code",
      "execution_count": 118,
      "metadata": {
        "colab": {
          "base_uri": "https://localhost:8080/"
        },
        "id": "hqt4bedU1_cd",
        "outputId": "3e979bec-55ff-48b2-baa2-2bcaea67e6ac"
      },
      "outputs": [
        {
          "output_type": "execute_result",
          "data": {
            "text/plain": [
              "(398038, 29)"
            ]
          },
          "metadata": {},
          "execution_count": 118
        }
      ],
      "source": [
        "#after SMOTE\n",
        "X_train_smote.shape"
      ]
    },
    {
      "cell_type": "markdown",
      "metadata": {
        "id": "t05JYkPdiPYv"
      },
      "source": [
        "### Logistic regression"
      ]
    },
    {
      "cell_type": "code",
      "execution_count": 119,
      "metadata": {
        "colab": {
          "base_uri": "https://localhost:8080/"
        },
        "id": "QaMOBEs0iGXK",
        "outputId": "4a169000-baa0-4cde-810e-9be2d0da0148"
      },
      "outputs": [
        {
          "output_type": "stream",
          "name": "stdout",
          "text": [
            "Fitting 5 folds for each of 6 candidates, totalling 30 fits\n"
          ]
        },
        {
          "output_type": "execute_result",
          "data": {
            "text/plain": [
              "GridSearchCV(cv=KFold(n_splits=5, random_state=4, shuffle=True),\n",
              "             estimator=LogisticRegression(),\n",
              "             param_grid={'C': [0.01, 0.1, 1, 10, 100, 1000]},\n",
              "             return_train_score=True, scoring='roc_auc', verbose=1)"
            ]
          },
          "metadata": {},
          "execution_count": 119
        }
      ],
      "source": [
        "folds = KFold(n_splits=5, shuffle=True, random_state=4)\n",
        "params = {\"C\": [0.01, 0.1, 1, 10, 100, 1000]}\n",
        "model_cv = GridSearchCV(estimator = LogisticRegression(),\n",
        "                        param_grid = params, \n",
        "                        scoring= 'roc_auc', \n",
        "                        cv = folds, \n",
        "                        verbose = 1,\n",
        "                        return_train_score=True) \n",
        "model_cv.fit(X_train_smote, y_train_smote)"
      ]
    },
    {
      "cell_type": "code",
      "execution_count": 120,
      "metadata": {
        "id": "X7IRMX4I2Lwp"
      },
      "outputs": [],
      "source": [
        "cv_results = pd.DataFrame(model_cv.cv_results_)"
      ]
    },
    {
      "cell_type": "code",
      "execution_count": 121,
      "metadata": {
        "colab": {
          "base_uri": "https://localhost:8080/",
          "height": 390
        },
        "id": "SBvnuAKA2PTa",
        "outputId": "79116145-a9b9-434d-a081-9f1755ffa1c1"
      },
      "outputs": [
        {
          "output_type": "display_data",
          "data": {
            "text/plain": [
              "<Figure size 576x432 with 1 Axes>"
            ],
            "image/png": "[encoded data removed]"
          },
          "metadata": {
            "needs_background": "light"
          }
        }
      ],
      "source": [
        "# plot of C versus train and validation scores\n",
        "\n",
        "plt.figure(figsize=(8, 6))\n",
        "plt.plot(cv_results['param_C'], cv_results['mean_test_score'])\n",
        "plt.plot(cv_results['param_C'], cv_results['mean_train_score'])\n",
        "plt.xlabel('C')\n",
        "plt.ylabel('roc_auc')\n",
        "plt.legend(['test result', 'train result'], loc='upper left')\n",
        "plt.xscale('log')"
      ]
    },
    {
      "cell_type": "code",
      "execution_count": 122,
      "metadata": {
        "id": "XRwIvOTu2WHZ"
      },
      "outputs": [],
      "source": [
        "logistic_bal_smote = LogisticRegression(C=0.1)\n",
        "logistic_bal_smote_model = logistic_bal_smote.fit(X_train_smote, y_train_smote)"
      ]
    },
    {
      "cell_type": "markdown",
      "metadata": {
        "id": "3COJivMW2hzD"
      },
      "source": [
        "1. Prediction on the train set"
      ]
    },
    {
      "cell_type": "code",
      "execution_count": 123,
      "metadata": {
        "id": "rCBJoQNl2hZA"
      },
      "outputs": [],
      "source": [
        "y_train_pred = logistic_bal_smote_model.predict(X_train_smote)"
      ]
    },
    {
      "cell_type": "code",
      "execution_count": 124,
      "metadata": {
        "colab": {
          "base_uri": "https://localhost:8080/",
          "height": 349
        },
        "id": "p3EFYtN221pf",
        "outputId": "085a7cc5-52bf-453d-aa92-fd5acc87ab5d"
      },
      "outputs": [
        {
          "output_type": "display_data",
          "data": {
            "text/plain": [
              "<Figure size 360x360 with 1 Axes>"
            ],
            "image/png": "[encoded data removed]"
          },
          "metadata": {
            "needs_background": "light"
          }
        }
      ],
      "source": [
        "y_train_pred_proba_log_bal_smote = logistic_bal_smote_model.predict_proba(X_train_smote)[:,1]\n",
        "draw_roc(y_train_smote, y_train_pred_proba_log_bal_smote)"
      ]
    },
    {
      "cell_type": "markdown",
      "metadata": {
        "id": "kUsFmpLa25h9"
      },
      "source": [
        "2. Prediction on the test set"
      ]
    },
    {
      "cell_type": "code",
      "execution_count": 125,
      "metadata": {
        "id": "itwm16l021VN"
      },
      "outputs": [],
      "source": [
        "y_test_pred = logistic_bal_smote_model.predict(X_test)"
      ]
    },
    {
      "cell_type": "code",
      "source": [
        "print('Train set: \\n')\n",
        "print('Recall Score: {:.2f}'.format(recall_score(y_train_smote, y_train_pred)))\n",
        "print('Precision Score: {:.2f}'.format(precision_score(y_train_smote, y_train_pred)))\n",
        "print('F1 Score: {:.2f}'.format(f1_score(y_train_smote, y_train_pred)))\n",
        "print('Accuracy Score: {:.2f}'.format(accuracy_score(y_train_smote, y_train_pred)))"
      ],
      "metadata": {
        "colab": {
          "base_uri": "https://localhost:8080/"
        },
        "outputId": "49e0be03-8c4e-48ab-967f-323eeb87857d",
        "id": "ry7yYBeP9WEA"
      },
      "execution_count": 126,
      "outputs": [
        {
          "output_type": "stream",
          "name": "stdout",
          "text": [
            "Train set: \n",
            "\n",
            "Recall Score: 0.92\n",
            "Precision Score: 0.97\n",
            "F1 Score: 0.94\n",
            "Accuracy Score: 0.95\n"
          ]
        }
      ]
    },
    {
      "cell_type": "code",
      "source": [
        "print('Test set:\\n')\n",
        "print('Recall Score: {:.2f}'.format(recall_score(y_test, y_test_pred)))\n",
        "print('Precision Score: {:.2f}'.format(precision_score(y_test, y_test_pred)))\n",
        "print('F1 Score: {:.2f}'.format(f1_score(y_test, y_test_pred)))\n",
        "print('Accuracy Score: {:.2f}'.format(accuracy_score(y_test, y_test_pred)))"
      ],
      "metadata": {
        "colab": {
          "base_uri": "https://localhost:8080/"
        },
        "outputId": "14cbad21-60d0-4456-e7f7-ef4ce1339183",
        "id": "VNxw_uAc9WEC"
      },
      "execution_count": 127,
      "outputs": [
        {
          "output_type": "stream",
          "name": "stdout",
          "text": [
            "Test set:\n",
            "\n",
            "Recall Score: 0.92\n",
            "Precision Score: 0.06\n",
            "F1 Score: 0.11\n",
            "Accuracy Score: 0.98\n"
          ]
        }
      ]
    },
    {
      "cell_type": "markdown",
      "metadata": {
        "id": "_M6tgwxQiRVx"
      },
      "source": [
        "### Decision tree"
      ]
    },
    {
      "cell_type": "code",
      "execution_count": 128,
      "metadata": {
        "id": "wmV9GNPFiGKF",
        "colab": {
          "base_uri": "https://localhost:8080/"
        },
        "outputId": "fb1819ee-e3cb-4ad9-e566-5b35d10ae8f0"
      },
      "outputs": [
        {
          "output_type": "stream",
          "name": "stdout",
          "text": [
            "Fitting 3 folds for each of 8 candidates, totalling 24 fits\n"
          ]
        },
        {
          "output_type": "execute_result",
          "data": {
            "text/plain": [
              "GridSearchCV(cv=3, estimator=DecisionTreeClassifier(),\n",
              "             param_grid={'max_depth': range(5, 15, 5),\n",
              "                         'min_samples_leaf': range(50, 150, 50),\n",
              "                         'min_samples_split': range(50, 150, 50)},\n",
              "             scoring='roc_auc', verbose=1)"
            ]
          },
          "metadata": {},
          "execution_count": 128
        }
      ],
      "source": [
        "param_grid = {\n",
        "    'max_depth': range(5, 15, 5),\n",
        "    'min_samples_leaf': range(50, 150, 50),\n",
        "    'min_samples_split': range(50, 150, 50),\n",
        "}\n",
        "\n",
        "\n",
        "# Instantiate the grid search model\n",
        "dtree = DecisionTreeClassifier()\n",
        "\n",
        "grid_search = GridSearchCV(estimator = dtree, \n",
        "                           param_grid = param_grid, \n",
        "                           scoring= 'roc_auc',\n",
        "                           cv = 3, \n",
        "                           verbose = 1)\n",
        "\n",
        "# Fit the grid search to the data\n",
        "grid_search.fit(X_train_smote,y_train_smote)"
      ]
    },
    {
      "cell_type": "code",
      "execution_count": 129,
      "metadata": {
        "id": "Zq7BvsFT3jCT",
        "colab": {
          "base_uri": "https://localhost:8080/",
          "height": 620
        },
        "outputId": "cb9197b9-9a45-423e-ca18-baca18f795de"
      },
      "outputs": [
        {
          "output_type": "execute_result",
          "data": {
            "text/plain": [
              "   mean_fit_time  std_fit_time  mean_score_time  std_score_time  \\\n",
              "0       7.435203      0.901384         0.057464        0.009165   \n",
              "1      11.220754      1.346115         0.092918        0.013466   \n",
              "2       7.227379      0.527638         0.048585        0.000424   \n",
              "3       7.129763      0.310818         0.049320        0.000911   \n",
              "4      12.710638      0.018066         0.057214        0.000714   \n",
              "5      14.453251      1.670561         0.069018        0.011894   \n",
              "6      16.689249      1.915604         0.066004        0.011810   \n",
              "7      13.358262      0.686337         0.057457        0.001949   \n",
              "\n",
              "  param_max_depth param_min_samples_leaf param_min_samples_split  \\\n",
              "0               5                     50                      50   \n",
              "1               5                     50                     100   \n",
              "2               5                    100                      50   \n",
              "3               5                    100                     100   \n",
              "4              10                     50                      50   \n",
              "5              10                     50                     100   \n",
              "6              10                    100                      50   \n",
              "7              10                    100                     100   \n",
              "\n",
              "                                              params  split0_test_score  \\\n",
              "0  {'max_depth': 5, 'min_samples_leaf': 50, 'min_...           0.987941   \n",
              "1  {'max_depth': 5, 'min_samples_leaf': 50, 'min_...           0.987937   \n",
              "2  {'max_depth': 5, 'min_samples_leaf': 100, 'min...           0.987911   \n",
              "3  {'max_depth': 5, 'min_samples_leaf': 100, 'min...           0.987910   \n",
              "4  {'max_depth': 10, 'min_samples_leaf': 50, 'min...           0.997804   \n",
              "5  {'max_depth': 10, 'min_samples_leaf': 50, 'min...           0.997943   \n",
              "6  {'max_depth': 10, 'min_samples_leaf': 100, 'mi...           0.997838   \n",
              "7  {'max_depth': 10, 'min_samples_leaf': 100, 'mi...           0.997853   \n",
              "\n",
              "   split1_test_score  split2_test_score  mean_test_score  std_test_score  \\\n",
              "0           0.988555           0.988218         0.988238        0.000251   \n",
              "1           0.988569           0.988218         0.988241        0.000258   \n",
              "2           0.988570           0.988196         0.988226        0.000270   \n",
              "3           0.988573           0.988197         0.988227        0.000271   \n",
              "4           0.998062           0.998064         0.997977        0.000122   \n",
              "5           0.997994           0.998127         0.998021        0.000078   \n",
              "6           0.997874           0.997965         0.997892        0.000053   \n",
              "7           0.997855           0.997924         0.997877        0.000033   \n",
              "\n",
              "   rank_test_score  \n",
              "0                6  \n",
              "1                5  \n",
              "2                8  \n",
              "3                7  \n",
              "4                2  \n",
              "5                1  \n",
              "6                3  \n",
              "7                4  "
            ],
            "text/html": [
              "\n",
              "  <div id=\"df-81352879-e650-4c2d-a231-eeab1985ef57\">\n",
              "    <div class=\"colab-df-container\">\n",
              "      <div>\n",
              "<style scoped>\n",
              "    .dataframe tbody tr th:only-of-type {\n",
              "        vertical-align: middle;\n",
              "    }\n",
              "\n",
              "    .dataframe tbody tr th {\n",
              "        vertical-align: top;\n",
              "    }\n",
              "\n",
              "    .dataframe thead th {\n",
              "        text-align: right;\n",
              "    }\n",
              "</style>\n",
              "<table border=\"1\" class=\"dataframe\">\n",
              "  <thead>\n",
              "    <tr style=\"text-align: right;\">\n",
              "      <th></th>\n",
              "      <th>mean_fit_time</th>\n",
              "      <th>std_fit_time</th>\n",
              "      <th>mean_score_time</th>\n",
              "      <th>std_score_time</th>\n",
              "      <th>param_max_depth</th>\n",
              "      <th>param_min_samples_leaf</th>\n",
              "      <th>param_min_samples_split</th>\n",
              "      <th>params</th>\n",
              "      <th>split0_test_score</th>\n",
              "      <th>split1_test_score</th>\n",
              "      <th>split2_test_score</th>\n",
              "      <th>mean_test_score</th>\n",
              "      <th>std_test_score</th>\n",
              "      <th>rank_test_score</th>\n",
              "    </tr>\n",
              "  </thead>\n",
              "  <tbody>\n",
              "    <tr>\n",
              "      <th>0</th>\n",
              "      <td>7.435203</td>\n",
              "      <td>0.901384</td>\n",
              "      <td>0.057464</td>\n",
              "      <td>0.009165</td>\n",
              "      <td>5</td>\n",
              "      <td>50</td>\n",
              "      <td>50</td>\n",
              "      <td>{'max_depth': 5, 'min_samples_leaf': 50, 'min_...</td>\n",
              "      <td>0.987941</td>\n",
              "      <td>0.988555</td>\n",
              "      <td>0.988218</td>\n",
              "      <td>0.988238</td>\n",
              "      <td>0.000251</td>\n",
              "      <td>6</td>\n",
              "    </tr>\n",
              "    <tr>\n",
              "      <th>1</th>\n",
              "      <td>11.220754</td>\n",
              "      <td>1.346115</td>\n",
              "      <td>0.092918</td>\n",
              "      <td>0.013466</td>\n",
              "      <td>5</td>\n",
              "      <td>50</td>\n",
              "      <td>100</td>\n",
              "      <td>{'max_depth': 5, 'min_samples_leaf': 50, 'min_...</td>\n",
              "      <td>0.987937</td>\n",
              "      <td>0.988569</td>\n",
              "      <td>0.988218</td>\n",
              "      <td>0.988241</td>\n",
              "      <td>0.000258</td>\n",
              "      <td>5</td>\n",
              "    </tr>\n",
              "    <tr>\n",
              "      <th>2</th>\n",
              "      <td>7.227379</td>\n",
              "      <td>0.527638</td>\n",
              "      <td>0.048585</td>\n",
              "      <td>0.000424</td>\n",
              "      <td>5</td>\n",
              "      <td>100</td>\n",
              "      <td>50</td>\n",
              "      <td>{'max_depth': 5, 'min_samples_leaf': 100, 'min...</td>\n",
              "      <td>0.987911</td>\n",
              "      <td>0.988570</td>\n",
              "      <td>0.988196</td>\n",
              "      <td>0.988226</td>\n",
              "      <td>0.000270</td>\n",
              "      <td>8</td>\n",
              "    </tr>\n",
              "    <tr>\n",
              "      <th>3</th>\n",
              "      <td>7.129763</td>\n",
              "      <td>0.310818</td>\n",
              "      <td>0.049320</td>\n",
              "      <td>0.000911</td>\n",
              "      <td>5</td>\n",
              "      <td>100</td>\n",
              "      <td>100</td>\n",
              "      <td>{'max_depth': 5, 'min_samples_leaf': 100, 'min...</td>\n",
              "      <td>0.987910</td>\n",
              "      <td>0.988573</td>\n",
              "      <td>0.988197</td>\n",
              "      <td>0.988227</td>\n",
              "      <td>0.000271</td>\n",
              "      <td>7</td>\n",
              "    </tr>\n",
              "    <tr>\n",
              "      <th>4</th>\n",
              "      <td>12.710638</td>\n",
              "      <td>0.018066</td>\n",
              "      <td>0.057214</td>\n",
              "      <td>0.000714</td>\n",
              "      <td>10</td>\n",
              "      <td>50</td>\n",
              "      <td>50</td>\n",
              "      <td>{'max_depth': 10, 'min_samples_leaf': 50, 'min...</td>\n",
              "      <td>0.997804</td>\n",
              "      <td>0.998062</td>\n",
              "      <td>0.998064</td>\n",
              "      <td>0.997977</td>\n",
              "      <td>0.000122</td>\n",
              "      <td>2</td>\n",
              "    </tr>\n",
              "    <tr>\n",
              "      <th>5</th>\n",
              "      <td>14.453251</td>\n",
              "      <td>1.670561</td>\n",
              "      <td>0.069018</td>\n",
              "      <td>0.011894</td>\n",
              "      <td>10</td>\n",
              "      <td>50</td>\n",
              "      <td>100</td>\n",
              "      <td>{'max_depth': 10, 'min_samples_leaf': 50, 'min...</td>\n",
              "      <td>0.997943</td>\n",
              "      <td>0.997994</td>\n",
              "      <td>0.998127</td>\n",
              "      <td>0.998021</td>\n",
              "      <td>0.000078</td>\n",
              "      <td>1</td>\n",
              "    </tr>\n",
              "    <tr>\n",
              "      <th>6</th>\n",
              "      <td>16.689249</td>\n",
              "      <td>1.915604</td>\n",
              "      <td>0.066004</td>\n",
              "      <td>0.011810</td>\n",
              "      <td>10</td>\n",
              "      <td>100</td>\n",
              "      <td>50</td>\n",
              "      <td>{'max_depth': 10, 'min_samples_leaf': 100, 'mi...</td>\n",
              "      <td>0.997838</td>\n",
              "      <td>0.997874</td>\n",
              "      <td>0.997965</td>\n",
              "      <td>0.997892</td>\n",
              "      <td>0.000053</td>\n",
              "      <td>3</td>\n",
              "    </tr>\n",
              "    <tr>\n",
              "      <th>7</th>\n",
              "      <td>13.358262</td>\n",
              "      <td>0.686337</td>\n",
              "      <td>0.057457</td>\n",
              "      <td>0.001949</td>\n",
              "      <td>10</td>\n",
              "      <td>100</td>\n",
              "      <td>100</td>\n",
              "      <td>{'max_depth': 10, 'min_samples_leaf': 100, 'mi...</td>\n",
              "      <td>0.997853</td>\n",
              "      <td>0.997855</td>\n",
              "      <td>0.997924</td>\n",
              "      <td>0.997877</td>\n",
              "      <td>0.000033</td>\n",
              "      <td>4</td>\n",
              "    </tr>\n",
              "  </tbody>\n",
              "</table>\n",
              "</div>\n",
              "      <button class=\"colab-df-convert\" onclick=\"convertToInteractive('df-81352879-e650-4c2d-a231-eeab1985ef57')\"\n",
              "              title=\"Convert this dataframe to an interactive table.\"\n",
              "              style=\"display:none;\">\n",
              "        \n",
              "  <svg xmlns=\"http://www.w3.org/2000/svg\" height=\"24px\"viewBox=\"0 0 24 24\"\n",
              "       width=\"24px\">\n",
              "    <path d=\"M0 0h24v24H0V0z\" fill=\"none\"/>\n",
              "    <path d=\"M18.56 5.44l.94 2.06.94-2.06 2.06-.94-2.06-.94-.94-2.06-.94 2.06-2.06.94zm-11 1L8.5 8.5l.94-2.06 2.06-.94-2.06-.94L8.5 2.5l-.94 2.06-2.06.94zm10 10l.94 2.06.94-2.06 2.06-.94-2.06-.94-.94-2.06-.94 2.06-2.06.94z\"/><path d=\"M17.41 7.96l-1.37-1.37c-.4-.4-.92-.59-1.43-.59-.52 0-1.04.2-1.43.59L10.3 9.45l-7.72 7.72c-.78.78-.78 2.05 0 2.83L4 21.41c.39.39.9.59 1.41.59.51 0 1.02-.2 1.41-.59l7.78-7.78 2.81-2.81c.8-.78.8-2.07 0-2.86zM5.41 20L4 18.59l7.72-7.72 1.47 1.35L5.41 20z\"/>\n",
              "  </svg>\n",
              "      </button>\n",
              "      \n",
              "  <style>\n",
              "    .colab-df-container {\n",
              "      display:flex;\n",
              "      flex-wrap:wrap;\n",
              "      gap: 12px;\n",
              "    }\n",
              "\n",
              "    .colab-df-convert {\n",
              "      background-color: #E8F0FE;\n",
              "      border: none;\n",
              "      border-radius: 50%;\n",
              "      cursor: pointer;\n",
              "      display: none;\n",
              "      fill: #1967D2;\n",
              "      height: 32px;\n",
              "      padding: 0 0 0 0;\n",
              "      width: 32px;\n",
              "    }\n",
              "\n",
              "    .colab-df-convert:hover {\n",
              "      background-color: #E2EBFA;\n",
              "      box-shadow: 0px 1px 2px rgba(60, 64, 67, 0.3), 0px 1px 3px 1px rgba(60, 64, 67, 0.15);\n",
              "      fill: #174EA6;\n",
              "    }\n",
              "\n",
              "    [theme=dark] .colab-df-convert {\n",
              "      background-color: #3B4455;\n",
              "      fill: #D2E3FC;\n",
              "    }\n",
              "\n",
              "    [theme=dark] .colab-df-convert:hover {\n",
              "      background-color: #434B5C;\n",
              "      box-shadow: 0px 1px 3px 1px rgba(0, 0, 0, 0.15);\n",
              "      filter: drop-shadow(0px 1px 2px rgba(0, 0, 0, 0.3));\n",
              "      fill: #FFFFFF;\n",
              "    }\n",
              "  </style>\n",
              "\n",
              "      <script>\n",
              "        const buttonEl =\n",
              "          document.querySelector('#df-81352879-e650-4c2d-a231-eeab1985ef57 button.colab-df-convert');\n",
              "        buttonEl.style.display =\n",
              "          google.colab.kernel.accessAllowed ? 'block' : 'none';\n",
              "\n",
              "        async function convertToInteractive(key) {\n",
              "          const element = document.querySelector('#df-81352879-e650-4c2d-a231-eeab1985ef57');\n",
              "          const dataTable =\n",
              "            await google.colab.kernel.invokeFunction('convertToInteractive',\n",
              "                                                     [key], {});\n",
              "          if (!dataTable) return;\n",
              "\n",
              "          const docLinkHtml = 'Like what you see? Visit the ' +\n",
              "            '<a target=\"_blank\" href=https://colab.research.google.com/notebooks/data_table.ipynb>data table notebook</a>'\n",
              "            + ' to learn more about interactive tables.';\n",
              "          element.innerHTML = '';\n",
              "          dataTable['output_type'] = 'display_data';\n",
              "          await google.colab.output.renderOutput(dataTable, element);\n",
              "          const docLink = document.createElement('div');\n",
              "          docLink.innerHTML = docLinkHtml;\n",
              "          element.appendChild(docLink);\n",
              "        }\n",
              "      </script>\n",
              "    </div>\n",
              "  </div>\n",
              "  "
            ]
          },
          "metadata": {},
          "execution_count": 129
        }
      ],
      "source": [
        "cv_results = pd.DataFrame(grid_search.cv_results_)\n",
        "cv_results"
      ]
    },
    {
      "cell_type": "code",
      "source": [
        "# Printing the optimal sensitivity score and hyperparameters\n",
        "print(\"Best roc_auc:-\", grid_search.best_score_)\n",
        "print(grid_search.best_estimator_)"
      ],
      "metadata": {
        "colab": {
          "base_uri": "https://localhost:8080/"
        },
        "id": "BAU-i1D9C4Lp",
        "outputId": "6e013285-83a8-4006-934c-1ee0414360fa"
      },
      "execution_count": 130,
      "outputs": [
        {
          "output_type": "stream",
          "name": "stdout",
          "text": [
            "Best roc_auc:- 0.9980214343758068\n",
            "DecisionTreeClassifier(max_depth=10, min_samples_leaf=50, min_samples_split=100)\n"
          ]
        }
      ]
    },
    {
      "cell_type": "code",
      "source": [
        "# Model with optimal hyperparameters\n",
        "dt_bal_smote_model = DecisionTreeClassifier(criterion = \"gini\", \n",
        "                                  random_state = 100,\n",
        "                                  max_depth=10, \n",
        "                                  min_samples_leaf=50,\n",
        "                                  min_samples_split=100)\n",
        "\n",
        "dt_bal_smote_model.fit(X_train_smote, y_train_smote)"
      ],
      "metadata": {
        "colab": {
          "base_uri": "https://localhost:8080/"
        },
        "id": "D04GDN8PC5Ft",
        "outputId": "1fd58d87-092d-4a00-ffb1-4cb54703c16a"
      },
      "execution_count": 131,
      "outputs": [
        {
          "output_type": "execute_result",
          "data": {
            "text/plain": [
              "DecisionTreeClassifier(max_depth=10, min_samples_leaf=50, min_samples_split=100,\n",
              "                       random_state=100)"
            ]
          },
          "metadata": {},
          "execution_count": 131
        }
      ]
    },
    {
      "cell_type": "markdown",
      "source": [
        "1. Prediction on the train set"
      ],
      "metadata": {
        "id": "UZIo5LddC8GW"
      }
    },
    {
      "cell_type": "code",
      "source": [
        "y_train_pred = dt_bal_smote_model.predict(X_train_smote)"
      ],
      "metadata": {
        "id": "h_znWKKKC458"
      },
      "execution_count": 132,
      "outputs": []
    },
    {
      "cell_type": "code",
      "execution_count": 133,
      "metadata": {
        "id": "rNMy-hFe3dVZ",
        "colab": {
          "base_uri": "https://localhost:8080/"
        },
        "outputId": "83d922f7-7b86-4545-8db1-6f6834b2320b"
      },
      "outputs": [
        {
          "output_type": "execute_result",
          "data": {
            "text/plain": [
              "0.9987249155488227"
            ]
          },
          "metadata": {},
          "execution_count": 133
        }
      ],
      "source": [
        "y_train_pred_proba = dt_bal_smote_model.predict_proba(X_train_smote)[:,1]\n",
        "metrics.roc_auc_score(y_train_smote, y_train_pred_proba)"
      ]
    },
    {
      "cell_type": "code",
      "source": [
        "draw_roc(y_train_smote, y_train_pred_proba)"
      ],
      "metadata": {
        "colab": {
          "base_uri": "https://localhost:8080/",
          "height": 349
        },
        "id": "cNWi0R6cDFXM",
        "outputId": "1b660676-c39b-4664-b194-32830c78a8a8"
      },
      "execution_count": 134,
      "outputs": [
        {
          "output_type": "display_data",
          "data": {
            "text/plain": [
              "<Figure size 360x360 with 1 Axes>"
            ],
            "image/png": "[encoded data removed]"
          },
          "metadata": {
            "needs_background": "light"
          }
        }
      ]
    },
    {
      "cell_type": "markdown",
      "source": [
        "2. Prediction on the test set"
      ],
      "metadata": {
        "id": "lax8QIl6DJaB"
      }
    },
    {
      "cell_type": "code",
      "source": [
        "y_test_pred = dt_bal_smote_model.predict(X_test)"
      ],
      "metadata": {
        "id": "zS28Yt1lDLab"
      },
      "execution_count": 135,
      "outputs": []
    },
    {
      "cell_type": "code",
      "source": [
        "y_test_pred_proba = dt_bal_smote_model.predict_proba(X_test)[:,1]\n",
        "metrics.roc_auc_score(y_test, y_test_pred_proba)"
      ],
      "metadata": {
        "colab": {
          "base_uri": "https://localhost:8080/"
        },
        "id": "-LicV13oDO2-",
        "outputId": "0eb0571b-52a9-45cb-955b-bd5c7417bdef"
      },
      "execution_count": 136,
      "outputs": [
        {
          "output_type": "execute_result",
          "data": {
            "text/plain": [
              "0.9048701313202075"
            ]
          },
          "metadata": {},
          "execution_count": 136
        }
      ]
    },
    {
      "cell_type": "code",
      "source": [
        "draw_roc(y_test, y_test_pred_proba)"
      ],
      "metadata": {
        "colab": {
          "base_uri": "https://localhost:8080/",
          "height": 349
        },
        "id": "J2_4ktdeDOOn",
        "outputId": "75e4b5d3-5014-4b43-8d27-73c3b33a848f"
      },
      "execution_count": 137,
      "outputs": [
        {
          "output_type": "display_data",
          "data": {
            "text/plain": [
              "<Figure size 360x360 with 1 Axes>"
            ],
            "image/png": "[encoded data removed]"
          },
          "metadata": {
            "needs_background": "light"
          }
        }
      ]
    },
    {
      "cell_type": "code",
      "source": [
        "print('Train set: \\n')\n",
        "print('Recall Score: {:.2f}'.format(recall_score(y_train_smote, y_train_pred)))\n",
        "print('Precision Score: {:.2f}'.format(precision_score(y_train_smote, y_train_pred)))\n",
        "print('F1 Score: {:.2f}'.format(f1_score(y_train_smote, y_train_pred)))\n",
        "print('Accuracy Score: {:.2f}'.format(accuracy_score(y_train_smote, y_train_pred)))"
      ],
      "metadata": {
        "colab": {
          "base_uri": "https://localhost:8080/"
        },
        "outputId": "bd3b898e-be8d-4ba5-a241-eca9f94fd41b",
        "id": "LhxMTAnO9u4X"
      },
      "execution_count": 138,
      "outputs": [
        {
          "output_type": "stream",
          "name": "stdout",
          "text": [
            "Train set: \n",
            "\n",
            "Recall Score: 0.99\n",
            "Precision Score: 0.99\n",
            "F1 Score: 0.99\n",
            "Accuracy Score: 0.99\n"
          ]
        }
      ]
    },
    {
      "cell_type": "code",
      "source": [
        "print('Test set:\\n')\n",
        "print('Recall Score: {:.2f}'.format(recall_score(y_test, y_test_pred)))\n",
        "print('Precision Score: {:.2f}'.format(precision_score(y_test, y_test_pred)))\n",
        "print('F1 Score: {:.2f}'.format(f1_score(y_test, y_test_pred)))\n",
        "print('Accuracy Score: {:.2f}'.format(accuracy_score(y_test, y_test_pred)))"
      ],
      "metadata": {
        "colab": {
          "base_uri": "https://localhost:8080/"
        },
        "outputId": "3940b1b6-933d-4e96-9f5a-46642ca30e1a",
        "id": "fq-_OXfC9u4Y"
      },
      "execution_count": 139,
      "outputs": [
        {
          "output_type": "stream",
          "name": "stdout",
          "text": [
            "Test set:\n",
            "\n",
            "Recall Score: 0.86\n",
            "Precision Score: 0.11\n",
            "F1 Score: 0.19\n",
            "Accuracy Score: 0.99\n"
          ]
        }
      ]
    },
    {
      "cell_type": "markdown",
      "metadata": {
        "id": "cCF8LaTviVxF"
      },
      "source": [
        "### XGBoost"
      ]
    },
    {
      "cell_type": "code",
      "execution_count": 141,
      "metadata": {
        "colab": {
          "base_uri": "https://localhost:8080/"
        },
        "id": "DS9HgBqUiXom",
        "outputId": "f011269f-feeb-459d-f0df-d20a76fd06f5"
      },
      "outputs": [
        {
          "output_type": "stream",
          "name": "stdout",
          "text": [
            "Fitting 3 folds for each of 6 candidates, totalling 18 fits\n"
          ]
        },
        {
          "output_type": "execute_result",
          "data": {
            "text/plain": [
              "GridSearchCV(cv=3, estimator=XGBClassifier(max_depth=2, n_estimators=200),\n",
              "             param_grid={'learning_rate': [0.2, 0.6],\n",
              "                         'subsample': [0.3, 0.6, 0.9]},\n",
              "             return_train_score=True, scoring='roc_auc', verbose=1)"
            ]
          },
          "metadata": {},
          "execution_count": 141
        }
      ],
      "source": [
        "folds = 3\n",
        "\n",
        "# specify range of hyperparameters\n",
        "param_grid = {'learning_rate': [0.2, 0.6], \n",
        "             'subsample': [0.3, 0.6, 0.9]}          \n",
        "\n",
        "\n",
        "# specify model\n",
        "xgb_model = XGBClassifier(max_depth=2, n_estimators=200)\n",
        "\n",
        "# set up GridSearchCV()\n",
        "model_cv = GridSearchCV(estimator = xgb_model, \n",
        "                        param_grid = param_grid, \n",
        "                        scoring= 'roc_auc', \n",
        "                        cv = folds, \n",
        "                        verbose = 1,\n",
        "                        return_train_score=True)      \n",
        "\n",
        "# fit the model\n",
        "model_cv.fit(X_train_smote, y_train_smote)"
      ]
    },
    {
      "cell_type": "code",
      "execution_count": 144,
      "metadata": {
        "colab": {
          "base_uri": "https://localhost:8080/"
        },
        "id": "Si0JvWJT33J0",
        "outputId": "ad331598-153d-4b41-e912-dbb29fc9f151"
      },
      "outputs": [
        {
          "output_type": "execute_result",
          "data": {
            "text/plain": [
              "{'learning_rate': 0.6, 'subsample': 0.6}"
            ]
          },
          "metadata": {},
          "execution_count": 144
        }
      ],
      "source": [
        "model_cv.best_params_"
      ]
    },
    {
      "cell_type": "code",
      "execution_count": 146,
      "metadata": {
        "colab": {
          "base_uri": "https://localhost:8080/"
        },
        "id": "jdZF00Ns36qD",
        "outputId": "1e294dd3-6ddf-418f-e953-acb2e769dd7b"
      },
      "outputs": [
        {
          "output_type": "execute_result",
          "data": {
            "text/plain": [
              "XGBClassifier(params={'learning_rate': 0.6, 'max_depth': 2, 'n_estimators': 200,\n",
              "                      'objective': 'binary:logistic', 'subsample': 0.6})"
            ]
          },
          "metadata": {},
          "execution_count": 146
        }
      ],
      "source": [
        "params = {'learning_rate': 0.6,\n",
        "          'max_depth': 2, \n",
        "          'n_estimators':200,\n",
        "          'subsample':0.6,\n",
        "         'objective':'binary:logistic'}\n",
        "\n",
        "# fit model on training data\n",
        "xgb_bal_smote_model = XGBClassifier(params = params)\n",
        "xgb_bal_smote_model.fit(X_train_smote, y_train_smote)"
      ]
    },
    {
      "cell_type": "markdown",
      "metadata": {
        "id": "ZPMRnQ_039Os"
      },
      "source": [
        "1. Prediction on the train set"
      ]
    },
    {
      "cell_type": "code",
      "execution_count": 147,
      "metadata": {
        "id": "kUliQMBE3-4e"
      },
      "outputs": [],
      "source": [
        "y_train_pred = xgb_bal_smote_model.predict(X_train_smote)"
      ]
    },
    {
      "cell_type": "code",
      "execution_count": 148,
      "metadata": {
        "colab": {
          "base_uri": "https://localhost:8080/"
        },
        "id": "D-52HIIm3pN6",
        "outputId": "705bb532-616c-4fc6-ada7-d47d8e58c9a2"
      },
      "outputs": [
        {
          "output_type": "execute_result",
          "data": {
            "text/plain": [
              "0.9990594549693457"
            ]
          },
          "metadata": {},
          "execution_count": 148
        }
      ],
      "source": [
        "y_train_pred_proba = xgb_bal_smote_model.predict_proba(X_train_smote)[:,1]\n",
        "metrics.roc_auc_score(y_train_smote, y_train_pred_proba)"
      ]
    },
    {
      "cell_type": "code",
      "execution_count": 149,
      "metadata": {
        "colab": {
          "base_uri": "https://localhost:8080/",
          "height": 349
        },
        "id": "sxIIBXWF3rla",
        "outputId": "2f3f09d6-6752-4a4e-c922-9d84f1748002"
      },
      "outputs": [
        {
          "output_type": "display_data",
          "data": {
            "text/plain": [
              "<Figure size 360x360 with 1 Axes>"
            ],
            "image/png": "[encoded data removed]"
          },
          "metadata": {
            "needs_background": "light"
          }
        }
      ],
      "source": [
        "draw_roc(y_train_smote, y_train_pred_proba)"
      ]
    },
    {
      "cell_type": "markdown",
      "metadata": {
        "id": "dniYtZYN4N4G"
      },
      "source": [
        "2. Prediction on the test set"
      ]
    },
    {
      "cell_type": "code",
      "execution_count": 150,
      "metadata": {
        "id": "1wQqJmwX4PkH"
      },
      "outputs": [],
      "source": [
        "y_test_pred = xgb_bal_smote_model.predict(X_test)"
      ]
    },
    {
      "cell_type": "code",
      "execution_count": 151,
      "metadata": {
        "colab": {
          "base_uri": "https://localhost:8080/"
        },
        "id": "6wKIOWej4agY",
        "outputId": "9866b9c2-9e43-421e-e89a-9c8dd4d30138"
      },
      "outputs": [
        {
          "output_type": "execute_result",
          "data": {
            "text/plain": [
              "0.9724748837820628"
            ]
          },
          "metadata": {},
          "execution_count": 151
        }
      ],
      "source": [
        "y_test_pred_proba = xgb_bal_smote_model.predict_proba(X_test)[:,1]\n",
        "metrics.roc_auc_score(y_test, y_test_pred_proba)"
      ]
    },
    {
      "cell_type": "code",
      "execution_count": 152,
      "metadata": {
        "colab": {
          "base_uri": "https://localhost:8080/",
          "height": 349
        },
        "id": "GAljpflJ4daO",
        "outputId": "e79d5edb-0003-4f91-aa97-ad3d4ec1a2ce"
      },
      "outputs": [
        {
          "output_type": "display_data",
          "data": {
            "text/plain": [
              "<Figure size 360x360 with 1 Axes>"
            ],
            "image/png": "[encoded data removed]"
          },
          "metadata": {
            "needs_background": "light"
          }
        }
      ],
      "source": [
        "draw_roc(y_test, y_test_pred_proba)"
      ]
    },
    {
      "cell_type": "code",
      "source": [
        "print('Train set: \\n')\n",
        "print('Recall Score: {:.2f}'.format(recall_score(y_train_smote, y_train_pred)))\n",
        "print('Precision Score: {:.2f}'.format(precision_score(y_train_smote, y_train_pred)))\n",
        "print('F1 Score: {:.2f}'.format(f1_score(y_train_smote, y_train_pred)))\n",
        "print('Accuracy Score: {:.2f}'.format(accuracy_score(y_train_smote, y_train_pred)))"
      ],
      "metadata": {
        "colab": {
          "base_uri": "https://localhost:8080/"
        },
        "outputId": "0d61ff66-1da8-4df1-a89a-e239faedbaef",
        "id": "kCd5KSai-qWO"
      },
      "execution_count": 153,
      "outputs": [
        {
          "output_type": "stream",
          "name": "stdout",
          "text": [
            "Train set: \n",
            "\n",
            "Recall Score: 0.98\n",
            "Precision Score: 0.99\n",
            "F1 Score: 0.99\n",
            "Accuracy Score: 0.99\n"
          ]
        }
      ]
    },
    {
      "cell_type": "code",
      "source": [
        "print('Test set:\\n')\n",
        "print('Recall Score: {:.2f}'.format(recall_score(y_test, y_test_pred)))\n",
        "print('Precision Score: {:.2f}'.format(precision_score(y_test, y_test_pred)))\n",
        "print('F1 Score: {:.2f}'.format(f1_score(y_test, y_test_pred)))\n",
        "print('Accuracy Score: {:.2f}'.format(accuracy_score(y_test, y_test_pred)))"
      ],
      "metadata": {
        "colab": {
          "base_uri": "https://localhost:8080/"
        },
        "outputId": "06ecc9b5-5a03-4c53-8d0c-ec860dc4b1fc",
        "id": "eoZGjxR4-qWP"
      },
      "execution_count": 154,
      "outputs": [
        {
          "output_type": "stream",
          "name": "stdout",
          "text": [
            "Test set:\n",
            "\n",
            "Recall Score: 0.88\n",
            "Precision Score: 0.14\n",
            "F1 Score: 0.24\n",
            "Accuracy Score: 0.99\n"
          ]
        }
      ]
    },
    {
      "cell_type": "markdown",
      "source": [
        "# Conclusion"
      ],
      "metadata": {
        "id": "y67wM42yNycE"
      }
    },
    {
      "cell_type": "markdown",
      "source": [
        "To confirm the best model, we need to first go back to the real business world - for a bank, what really matters to them when detecting fraudulent card transactions?\n",
        "\n",
        "In many cases, it should be avoiding the possible severe losses from high-value fraudulent transactions. With that being said, a model with **high recall rate** worths our highlights for its capability to capture suspicious transactions.\n",
        "\n",
        "**SMOTE** is proven to be an effective method for imbalanced dataset and **Logistic Regression** performs best in terms of recall score (0.92). The high interpretability even further proves the effectiveness of Logistic Regression model. "
      ],
      "metadata": {
        "id": "aUgEhGFuGQoX"
      }
    },
    {
      "cell_type": "code",
      "source": [
        "print('AUC for Train set: ', metrics.roc_auc_score(y_train_smote, y_train_pred_proba_log_bal_smote))\n",
        "fpr, tpr, thresholds = metrics.roc_curve(y_train_smote, y_train_pred_proba_log_bal_smote)\n",
        "threshold = thresholds[np.argmax(tpr-fpr)]\n",
        "print(\"Threshold: \",threshold)\n",
        "#For this best model, the most proper threshold is ~0.34, through which we could obtain the best ROC score."
      ],
      "metadata": {
        "colab": {
          "base_uri": "https://localhost:8080/"
        },
        "id": "smRRlBcSNl_d",
        "outputId": "9969e806-073a-47e1-9d8a-21b54dade8c1"
      },
      "execution_count": 155,
      "outputs": [
        {
          "output_type": "stream",
          "name": "stdout",
          "text": [
            "AUC for Train set:  0.9901231930501675\n",
            "Threshold:  0.337919187661101\n"
          ]
        }
      ]
    },
    {
      "cell_type": "markdown",
      "metadata": {
        "id": "5ma7h0zOPSGJ"
      },
      "source": [
        "# Reference:"
      ]
    },
    {
      "cell_type": "markdown",
      "metadata": {
        "id": "fxjgF605h697"
      },
      "source": [
        "1. [Fraud detection handbook](https://fraud-detection-handbook.github.io/fraud-detection-handbook/Foreword.html)\n",
        "\n",
        "2. [Credit Fraud || Dealing with Imbalanced Datasets](https://www.kaggle.com/code/janiobachmann/credit-fraud-dealing-with-imbalanced-datasets/notebook)\n",
        "\n",
        "3. [zmzhou_creditcard_fraud_detection](https://github.com/zmzhouXJTU/CreditCard_Fraud_Detection/blob/master/Creditcard_fraud_detection.py)\n",
        "\n",
        "4. [sahidul-shaikh_creditcard_fraud_detection](https://github.com/sahidul-shaikh/credit-card-fraud-detection/blob/main/credit_card_fraud_detection.ipynb)\n"
      ]
    },
    {
      "cell_type": "code",
      "execution_count": null,
      "metadata": {
        "id": "Q9uvucs7Pr6V"
      },
      "outputs": [],
      "source": [
        ""
      ]
    }
  ],
  "metadata": {
    "colab": {
      "collapsed_sections": [
        "33AEujdG_JWc",
        "K70TSbRV_N_y",
        "YXw98Nqo_s0i",
        "Ym04YR3K6fse",
        "Y-z5G0luhihy",
        "4RtCGfjQhuua",
        "SUMjoWM7hwU7",
        "W31t3MunhpMq",
        "VTwJL5bvh8EP",
        "o6zz89lE6aRg",
        "t05JYkPdiPYv",
        "_M6tgwxQiRVx",
        "cCF8LaTviVxF"
      ],
      "name": "Card Fraud Detection_0818.ipynb",
      "provenance": [],
      "authorship_tag": "ABX9TyNNpqtr/fhXn9Y/jwAUIjTf",
      "include_colab_link": true
    },
    "kernelspec": {
      "display_name": "Python 3",
      "name": "python3"
    },
    "language_info": {
      "name": "python"
    }
  },
  "nbformat": 4,
  "nbformat_minor": 0
}